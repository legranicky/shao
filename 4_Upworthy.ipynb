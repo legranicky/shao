{
 "metadata": {
  "name": ""
 },
 "nbformat": 3,
 "nbformat_minor": 0,
 "worksheets": [
  {
   "cells": [
    {
     "cell_type": "markdown",
     "metadata": {
      "slideshow": {
       "slide_type": "slide"
      }
     },
     "source": [
      "## Scraping headlines"
     ]
    },
    {
     "cell_type": "markdown",
     "metadata": {
      "slideshow": {
       "slide_type": "slide"
      }
     },
     "source": [
      "![](https://raw.github.com/nealcaren/workshop_2014/master/notebooks/images/upworth_2.png)"
     ]
    },
    {
     "cell_type": "markdown",
     "metadata": {
      "slideshow": {
       "slide_type": "slide"
      }
     },
     "source": [
      "How I scrape a page\n",
      "\n",
      "1. Download the page.\n",
      "1. Look at the source code of a sample page.\n",
      "2. Find the thing that you want, and the stuff around that thing.\n",
      "3. Write a regular expression that matches what you want.\n",
      "4. Write regular expression that actually matches what you want.\n",
      "5. Production!"
     ]
    },
    {
     "cell_type": "code",
     "collapsed": false,
     "input": [
      "import requests"
     ],
     "language": "python",
     "metadata": {
      "slideshow": {
       "slide_type": "slide"
      }
     },
     "outputs": [],
     "prompt_number": 52
    },
    {
     "cell_type": "code",
     "collapsed": false,
     "input": [
      "url = 'http://www.upworthy.com/page/2'"
     ],
     "language": "python",
     "metadata": {
      "slideshow": {
       "slide_type": "fragment"
      }
     },
     "outputs": [],
     "prompt_number": 53
    },
    {
     "cell_type": "code",
     "collapsed": false,
     "input": [
      "page = requests.get(url)"
     ],
     "language": "python",
     "metadata": {
      "slideshow": {
       "slide_type": "fragment"
      }
     },
     "outputs": [],
     "prompt_number": 54
    },
    {
     "cell_type": "code",
     "collapsed": false,
     "input": [
      "print page.headers"
     ],
     "language": "python",
     "metadata": {
      "slideshow": {
       "slide_type": "fragment"
      }
     },
     "outputs": [
      {
       "output_type": "stream",
       "stream": "stdout",
       "text": [
        "CaseInsensitiveDict({'status': '200 OK', 'x-request-id': 'a9cf8301-b932-4294-b957-7df4300cc778', 'via': '1.1 varnish, 1.1 varnish', 'x-cache': 'MISS, HIT', 'content-encoding': 'gzip', 'accept-ranges': 'bytes', 'x-timer': 'S1391631280.295958757,VS0,VE0', 'vary': 'Accept-Encoding', 'content-length': '10333', 'connection': 'keep-alive', 'etag': '\"985228e196db36102f8d3ffb894952b5\"', 'x-cache-hits': '0, 25', 'x-ua-compatible': 'IE=Edge,chrome=1', 'x-served-by': 'cache-v44-ASH, cache-jfk1027-JFK', 'cache-control': 'max-age=5, public', 'date': 'Wed, 05 Feb 2014 20:14:40 GMT', 'content-type': 'text/html; charset=utf-8', 'age': '4750', 'x-runtime': '0.250320'})\n"
       ]
      }
     ],
     "prompt_number": 55
    },
    {
     "cell_type": "code",
     "collapsed": false,
     "input": [
      "page.headers['status']"
     ],
     "language": "python",
     "metadata": {
      "slideshow": {
       "slide_type": "fragment"
      }
     },
     "outputs": [
      {
       "metadata": {},
       "output_type": "pyout",
       "prompt_number": 56,
       "text": [
        "'200 OK'"
       ]
      }
     ],
     "prompt_number": 56
    },
    {
     "cell_type": "code",
     "collapsed": false,
     "input": [
      "page.text"
     ],
     "language": "python",
     "metadata": {
      "slideshow": {
       "slide_type": "slide"
      }
     },
     "outputs": [
      {
       "metadata": {},
       "output_type": "pyout",
       "prompt_number": 57,
       "text": [
        "u'<!DOCTYPE html>\\n<!-- paulirish.com/2008/conditional-stylesheets-vs-css-hacks-answer-neither/ -->\\n<!--[if lt IE 7]> <html class=\"ie ie6 lt-ie10 lt-ie9 lt-ie8 lt-ie7 no-js\" lang=\"en\" xmlns:fb=\"http://ogp.me/ns/fb#\"> <![endif]-->\\n<!--[if IE 7]>    <html class=\"ie ie7 lt-ie10 lt-ie9 lt-ie8 no-js\" lang=\"en\" xmlns:fb=\"http://ogp.me/ns/fb#\"> <![endif]-->\\n<!--[if IE 8]>    <html class=\"ie ie8 lt-ie10 lt-ie9 no-js\" lang=\"en\" xmlns:fb=\"http://ogp.me/ns/fb#\"> <![endif]-->\\n<!--[if IE 9]>    <html class=\"ie ie9 lt-ie10 no-js\"lang=\"en\" xmlns:fb=\"http://ogp.me/ns/fb#\"> <![endif]-->\\n<!--[if (gt IE 9)|!(IE)]><!--> <html class=\"no-js\" lang=\"en\" xmlns:fb=\"http://ogp.me/ns/fb#\"> <!--<![endif]-->\\n<head>\\n  <meta charset=\"utf-8\">\\n  <!-- Use the .htaccess and remove this line to avoid edge case issues.\\n       More info: h5bp.com/i/378 -->\\n  <meta http-equiv=\"X-UA-Compatible\" content=\"IE=edge\">\\n\\n  <script id=\"config\" type=\"application/json\">\\n    {\\n      \"environment\" : \"production\",\\n\\n      \"mixpanelId\" : \"\",\\n      \"googleAnalyticsId\" : \"UA-30098361-1\",\\n\\n      \"facebookId\" : \"153163221468956\",\\n      \"facebookDomain\" : \"upworthy.com\",\\n\\n      \"siloUri\" : \"http://analytics.upworthy.com\",\\n\\n       \"attentionGranularity\" : \"10\",\\n       \"attentionDecay\" : \"5\"\\n    }\\n  </script>\\n  <script id=\"pageMetadata\" type=\"application/json\">\\n    {\\n      \"environment\" : \"production\",\\n      \"asset_path\"  : \"/assets/\"\\n    }\\n  </script>\\n      <script id=\"pageType\" type=\\'application/json\\'>\"homepage\"</script>\\n\\n\\n  <!-- Disable no-js styles if javascript is turned on. http://paulirish.com/2009/avoiding-the-fouc-v3/ -->\\n  <script>(function(H){H.className=H.className.replace(/\\\\bno-js\\\\b/,\\'js\\')})(document.documentElement)</script>\\n\\n    <title>Upworthy: Things that matter. Pass &#x27;em on.</title>\\n\\n    <meta name=\"description\" content=\"Awesome, fun, interesting videos and graphics about stuff that matters.\">\\n\\n  <!-- Mobile viewport optimized: h5bp.com/viewport -->\\n  <meta name=\"viewport\" content=\"width=device-width, maximum-scale=1.0, minimum-scale=1.0, initial-scale=1.0, user-scalable=no\">\\n  <meta name=\"apple-mobile-web-app-capable\" content=\"yes\">\\n\\n  <link href=\"/favicon.ico\" rel=\"shortcut icon\" type=\"image/ico\" />\\n  <link href=\"/favicon.ico\" rel=\"icon\" type=\"image/ico\" />\\n  <link rel=\"apple-touch-icon\" href=\"/assets/apple-touch-icon-9d1807c05c7b50c47e3daaf0a91b59df.png\"/>\\n  <link rel=\"alternate\" type=\"application/rss+xml\" title=\"Upworthy (RSS2.0)\" href=\"http://feeds.feedburner.com/upworthy\"/>\\n  <link rel=\"publisher\" href=\"https://plus.google.com/103863989923615589024\">\\n\\n  \\n\\n        <meta property=\"og:image\" content=\"http:/assets/up-41435e2014e71d77143bf31e27e27801.png\" />\\n    <meta property=\"og:site_name\" content=\"Upworthy: Things that matter. Pass \\'em on.\" />\\n    <meta property=\"og:title\" content=\"Upworthy: Things that matter. Pass \\'em on.\" />\\n    <meta property=\"og:description\" content=\"Awesome, fun, interesting videos and graphics about stuff that matters.\" />\\n    <meta property=\"og:url\" content=\"http://www.upworthy.com/page/2\" />\\n    <meta property=\"og:type\" content=\"website\" />\\n\\n    <meta name=\"twitter:card\" content=\"summary\">\\n    <meta name=\"twitter:site\" content=\"@Upworthy\">\\n    <meta name=\"twitter:url\" content=\"http://www.upworthy.com/\" />\\n    <meta name=\"twitter:title\" content=\"Upworthy: Things that matter. Pass \\'em on.\" />\\n    <meta name=\"twitter:image\" content=\"/assets/up-41435e2014e71d77143bf31e27e27801.png\" />\\n    <meta name=\"twitter:description\" content=\"Upworthy is social media with a mission: to make meaningful stuff go viral.\" />\\n    <meta property=\"twitter:account_id\" content=\"524396430\" />\\n\\n    <meta property=\\'fb:admins\\' content=\\'12800023\\' />\\n    <meta property=\\'fb:admins\\' content=\\'10513734\\' />\\n    <meta property=\\'fb:admins\\' content=\\'3904222\\' />\\n    <meta property=\\'fb:admins\\' content=\\'3616674\\' />\\n    <meta property=\\'fb:admins\\' content=\\'1342020065\\' />\\n    <meta property=\\'fb:admins\\' content=\\'666471049\\' />\\n    <meta property=\\'fb:admins\\' content=\\'717159202\\' />\\n    <meta property=\\'fb:admins\\' content=\\'707140716\\' />\\n    <meta property=\\'fb:admins\\' content=\\'14205343\\' />\\n  <meta property=\"fb:app_id\" content=\"153163221468956\">\\n\\n  \\n  <meta content=\"authenticity_token\" name=\"csrf-param\" />\\n<meta content=\"zOI8k2HmaCnmKs9+6zGJjdZBPg1xwgzPDKg4fgpxJuM=\" name=\"csrf-token\" />\\n\\n  <!-- HTML5 Shiv (style HTML5 elements in IE8) -->\\n  <!--[if lt IE 9]>\\n  <script src=\"//html5shim.googlecode.com/svn/trunk/html5.js\"></script>\\n  <![endif]-->\\n\\n  <!-- Google/Bootstrap Web Fonts -->\\n  <link href=\\'http://fonts.googleapis.com/css?family=Source+Sans+Pro:400,700,400italic,700italic|Droid+Serif:400,700,400italic,700italic\\' rel=\\'stylesheet\\' type=\\'text/css\\'>\\n  <style type=\"text/css\">\\n    @font-face {\\n      font-family: \\'FontAwesome\\';\\n      src:  url(\\'/assets/fontawesome-webfont.eot?v=3.3\\');\\n      src:  local(\\'Font Awesome Regular\\'),\\n            url(\\'/assets/fontawesome-webfont.eot?#iefix&v=3.3\\') format(\\'embedded-opentype\\'),\\n            url(\\'/assets/fontawesome-webfont.woff?v=3.3\\') format(\\'woff\\'),\\n            url(\\'/assets/fontawesome-webfont.ttf?v=3.3\\') format(\\'truetype\\'),\\n            url(\\'/assets/fontawesome-webfont.svg#fontawesomeregular?v=3.3\\') format(\\'svg\\');\\n      font-weight: normal;\\n      font-style: normal;\\n    }\\n  </style>\\n\\n  <link href=\"/assets/application-adc59eae51306c1a2eec3faeacbc6d41.css\" media=\"screen\" rel=\"stylesheet\" type=\"text/css\" />\\n\\n<script type=\"text/javascript\">var NREUMQ=NREUMQ||[];NREUMQ.push([\"mark\",\"firstbyte\",new Date().getTime()]);</script></head>\\n<body class=\"home\">\\n  <!--[if lt IE 7]><p class=chromeframe>Your browser is <em>ancient!</em> <a href=\"http://browsehappy.com/\">Upgrade to a different browser</a> or <a href=\"http://www.google.com/chromeframe/?redirect=true\">install Google Chrome Frame</a> to experience this site.</p><![endif]-->\\n\\n  <div id=\"main-header\"></div>\\n\\n  \\n\\n  <div class=\"wrapper\">\\n    <div class=\"container\">\\n      <div class=\"row\">\\n        <div id=\"header-logo-container\" class=\"span9\">\\n          <a href=\"/\" class=\"analytic_event\" data-ga-category=\"General\" data-ga-action=\"Header Logo\" data-ga-label=\"pageTitle\" id=\"logo\"></a>\\n        </div>\\n      </div>\\n      \\n\\n\\n<div id=\"fb-root\"></div>\\n<script>(function(d, s, id) {\\n  var js, fjs = d.getElementsByTagName(s)[0];\\n  if (d.getElementById(id)) return;\\n  js = d.createElement(s); js.id = id;\\n  js.src = \"//connect.facebook.net/en_US/all.js#xfbml=1\";\\n  fjs.parentNode.insertBefore(js, fjs);\\n}(document, \\'script\\', \\'facebook-jssdk\\'));</script>\\n<div class=\"homepage\">\\n  <div class=\"container\">\\n    <!-- welcome message -->\\n    <div class=\"row\">\\n      <div id=\"welcome-message\" class=\"span12\">\\n        <h1>Things that matter.<br class=\"visible-phone\"> Pass \\'em on.</h1>\\n      </div>\\n      <a href=\"/jobs\" class=\"hiring-banner visible-desktop visible-tablet\">We&#x27;re Hiring</a>\\n    </div>\\n\\n  </div>\\n\\n  <!-- featured nugget slideshow -->\\n  <div id=\"featured-nuggets\">\\n    <div class=\"row\">\\n      <div class=\"span12 section-break\">\\n        <h2 class=\"span3 section-header\">Featured</h2>\\n      </div>\\n    </div>\\n    <div class=\"featured-row\">\\n      <div id=\"slide-content\">\\n        \\n<div class=\\'slide clickable analytic_event\\' data-href=\"/30000-people-die-each-year-getting-something-they-dont-need-its-time-we-address-the-problem?c=fea\" data-ga-category=\"Homepage\" data-ga-action=\"Featured Nugget\">\\n  <a href=\"/30000-people-die-each-year-getting-something-they-dont-need-its-time-we-address-the-problem?c=fea\" class=\"thumb\" data-ga-action=\"Featured Nugget Image\" data-ga-category=\"Homepage\" data-ga-label=\"/30000-people-die-each-year-getting-something-they-dont-need-its-time-we-address-the-problem?c=fea\" data-href=\"/30000-people-die-each-year-getting-something-they-dont-need-its-time-we-address-the-problem?c=fea\" rel=\"analytic_event\"><img alt=\"Web_287_escape-fire-health-care-system-reform-1\" height=\"287\" src=\"//upw-prod-images.global.ssl.fastly.net/nugget/52ea03d144fd73bd1e000041/web_287_escape-fire-health-care-system-reform-1-65c0c90732f43374227fa17ccfe645f1.jpg\" width=\"287\" /></a>\\n  <div class=\\'nugget-info\\'>\\n    <h3>\\n      <a href=\"/30000-people-die-each-year-getting-something-they-dont-need-its-time-we-address-the-problem?c=fea\" data-ga-action=\"Featured Nugget Title\" data-ga-category=\"Homepage\" data-ga-label=\"/30000-people-die-each-year-getting-something-they-dont-need-its-time-we-address-the-problem?c=fea\" data-href=\"/30000-people-die-each-year-getting-something-they-dont-need-its-time-we-address-the-problem?c=fea\" rel=\"analytic_event\">30,000 People Die Each Year Getting Something They Don&#x27;t Need. It&#x27;s Time We Address The Problem.</a>\\n    </h3>\\n    <div class=\"meta\">\\n      <a href=\"laura-willard\" class=\"avatar\" data-ga-action=\"Featured Nugget Author\" data-ga-category=\"Homepage\" data-ga-label=\"/laura-willard\" data-href=\"/laura-willard\" rel=\"analytic_event\"><img alt=\"Web_66_laura-willard-upworthy-headshot\" height=\"66\" src=\"//upw-prod-images.global.ssl.fastly.net/account/5192a3c6e36cf87029001c3a/web_66_laura-willard-upworthy-headshot.jpg\" width=\"66\" /></a>\\n      <a href=\"laura-willard?c=fea\" data-ga-action=\"Featured Nugget Author\" data-ga-category=\"Homepage\" data-ga-label=\"/laura-willard\" data-href=\"/laura-willard\" rel=\"analytic_event\">Laura Willard</a>\\n    </div>\\n    <div class=\"lede\">\\n      If you could make $8,000 in five minutes or $15 in 45 minutes, which would you choose?\\n    </div>\\n  </div>\\n</div><!-- /nugget -->\\n\\n<div class=\\'slide clickable analytic_event\\' data-href=\"/i-just-wanted-to-die-and-maybe-i-deserved-this-are-words-a-child-should-never-have-to-say?c=fea\" data-ga-category=\"Homepage\" data-ga-action=\"Featured Nugget\">\\n  <a href=\"/i-just-wanted-to-die-and-maybe-i-deserved-this-are-words-a-child-should-never-have-to-say?c=fea\" class=\"thumb\" data-ga-action=\"Featured Nugget Image\" data-ga-category=\"Homepage\" data-ga-label=\"/i-just-wanted-to-die-and-maybe-i-deserved-this-are-words-a-child-should-never-have-to-say?c=fea\" data-href=\"/i-just-wanted-to-die-and-maybe-i-deserved-this-are-words-a-child-should-never-have-to-say?c=fea\" rel=\"analytic_event\"><img alt=\"Web_287_child-trafficking-victim\" height=\"287\" src=\"//upw-prod-images.global.ssl.fastly.net/nugget/52ebccb6536d986f6800001f/web_287_child-trafficking-victim-196b3b29bcd96a28679f168471f87cf5.jpg\" width=\"287\" /></a>\\n  <div class=\\'nugget-info\\'>\\n    <h3>\\n      <a href=\"/i-just-wanted-to-die-and-maybe-i-deserved-this-are-words-a-child-should-never-have-to-say?c=fea\" data-ga-action=\"Featured Nugget Title\" data-ga-category=\"Homepage\" data-ga-label=\"/i-just-wanted-to-die-and-maybe-i-deserved-this-are-words-a-child-should-never-have-to-say?c=fea\" data-href=\"/i-just-wanted-to-die-and-maybe-i-deserved-this-are-words-a-child-should-never-have-to-say?c=fea\" rel=\"analytic_event\">&#x27;I Just Wanted To Die&#x27; And &#x27;Maybe I Deserved This&#x27; Are Words A Child Should Never Have To Say</a>\\n    </h3>\\n    <div class=\"meta\">\\n      <a href=\"laura-willard\" class=\"avatar\" data-ga-action=\"Featured Nugget Author\" data-ga-category=\"Homepage\" data-ga-label=\"/laura-willard\" data-href=\"/laura-willard\" rel=\"analytic_event\"><img alt=\"Web_66_laura-willard-upworthy-headshot\" height=\"66\" src=\"//upw-prod-images.global.ssl.fastly.net/account/5192a3c6e36cf87029001c3a/web_66_laura-willard-upworthy-headshot.jpg\" width=\"66\" /></a>\\n      <a href=\"laura-willard?c=fea\" data-ga-action=\"Featured Nugget Author\" data-ga-category=\"Homepage\" data-ga-label=\"/laura-willard\" data-href=\"/laura-willard\" rel=\"analytic_event\">Laura Willard</a>\\n    </div>\\n    <div class=\"lede\">\\n      No human should ever feel this way. \\n    </div>\\n  </div>\\n</div><!-- /nugget -->\\n\\n<div class=\\'slide clickable analytic_event\\' data-href=\"/when-a-simple-idea-like-this-actually-works-and-it-helps-people-get-by-everybody-wins-9?c=fea\" data-ga-category=\"Homepage\" data-ga-action=\"Featured Nugget\">\\n  <a href=\"/when-a-simple-idea-like-this-actually-works-and-it-helps-people-get-by-everybody-wins-9?c=fea\" class=\"thumb\" data-ga-action=\"Featured Nugget Image\" data-ga-category=\"Homepage\" data-ga-label=\"/when-a-simple-idea-like-this-actually-works-and-it-helps-people-get-by-everybody-wins-9?c=fea\" data-href=\"/when-a-simple-idea-like-this-actually-works-and-it-helps-people-get-by-everybody-wins-9?c=fea\" rel=\"analytic_event\"><img alt=\"Web_287_thumb-3\" height=\"287\" src=\"//upw-prod-images.global.ssl.fastly.net/nugget/52eff0593beb59ff87000001/web_287_thumb-3-59e8ff0cbf80b826f568e150d765d9e0.png\" width=\"287\" /></a>\\n  <div class=\\'nugget-info\\'>\\n    <h3>\\n      <a href=\"/when-a-simple-idea-like-this-actually-works-and-it-helps-people-get-by-everybody-wins-9?c=fea\" data-ga-action=\"Featured Nugget Title\" data-ga-category=\"Homepage\" data-ga-label=\"/when-a-simple-idea-like-this-actually-works-and-it-helps-people-get-by-everybody-wins-9?c=fea\" data-href=\"/when-a-simple-idea-like-this-actually-works-and-it-helps-people-get-by-everybody-wins-9?c=fea\" rel=\"analytic_event\">When A Simple Idea Like This Actually Works And It Helps People Get By, Everybody Wins</a>\\n    </h3>\\n    <div class=\"meta\">\\n      <a href=\"brandon-weber\" class=\"avatar\" data-ga-action=\"Featured Nugget Author\" data-ga-category=\"Homepage\" data-ga-label=\"/brandon-weber\" data-href=\"/brandon-weber\" rel=\"analytic_event\"><img alt=\"Web_66_brandon-weber\" height=\"66\" src=\"//upw-prod-images.global.ssl.fastly.net/account/5192a6b3f62409001800e5ed/web_66_brandon-weber.jpg\" width=\"66\" /></a>\\n      <a href=\"brandon-weber?c=fea\" data-ga-action=\"Featured Nugget Author\" data-ga-category=\"Homepage\" data-ga-label=\"/brandon-weber\" data-href=\"/brandon-weber\" rel=\"analytic_event\">Brandon Weber</a>\\n    </div>\\n    <div class=\"lede\">\\n      There\\u2019s a basic disconnect between food abundance and actually getting it to those who need it.\\n    </div>\\n  </div>\\n</div><!-- /nugget -->\\n\\n      </div>\\n      <!-- list all three featured nuggets -->\\n      <div id=\"slide-list\">\\n        <!-- generate thumbnails for each featured story -->\\n        <ul>\\n            <li class=\"analytic_event clickable\" data-ga-category=\"Homepage\" data-ga-action=\"Slideshow Thumbnail Interaction\" data-href=\"/30000-people-die-each-year-getting-something-they-dont-need-its-time-we-address-the-problem?c=fea\">\\n              <img alt=\"Web_287_escape-fire-health-care-system-reform-1\" class=\"thumb\" height=\"83\" src=\"//upw-prod-images.global.ssl.fastly.net/nugget/52ea03d144fd73bd1e000041/web_287_escape-fire-health-care-system-reform-1-65c0c90732f43374227fa17ccfe645f1.jpg\" width=\"83\" />\\n              <span class=\"text\">\\n                30,000 People Die Each Year Getting Something They Don&#x27;t Need. It&#x27;s Time We Address The Problem.\\n              </span>\\n            </li>\\n            <li class=\"analytic_event clickable\" data-ga-category=\"Homepage\" data-ga-action=\"Slideshow Thumbnail Interaction\" data-href=\"/i-just-wanted-to-die-and-maybe-i-deserved-this-are-words-a-child-should-never-have-to-say?c=fea\">\\n              <img alt=\"Web_287_child-trafficking-victim\" class=\"thumb\" height=\"83\" src=\"//upw-prod-images.global.ssl.fastly.net/nugget/52ebccb6536d986f6800001f/web_287_child-trafficking-victim-196b3b29bcd96a28679f168471f87cf5.jpg\" width=\"83\" />\\n              <span class=\"text\">\\n                &#x27;I Just Wanted To Die&#x27; And &#x27;Maybe I Deserved This&#x27; Are Words A Child Should Never Have To Say\\n              </span>\\n            </li>\\n            <li class=\"analytic_event clickable\" data-ga-category=\"Homepage\" data-ga-action=\"Slideshow Thumbnail Interaction\" data-href=\"/when-a-simple-idea-like-this-actually-works-and-it-helps-people-get-by-everybody-wins-9?c=fea\">\\n              <img alt=\"Web_287_thumb-3\" class=\"thumb\" height=\"83\" src=\"//upw-prod-images.global.ssl.fastly.net/nugget/52eff0593beb59ff87000001/web_287_thumb-3-59e8ff0cbf80b826f568e150d765d9e0.png\" width=\"83\" />\\n              <span class=\"text\">\\n                When A Simple Idea Like This Actually Works And It Helps People Get By, Everybody Wins\\n              </span>\\n            </li>\\n        </ul>\\n      </div>\\n    </div>\\n  </div>\\n\\n\\n  <!-- nugget grid -->\\n  <div id=\"recently-shared\">\\n    <div class=\"row\">\\n      <div class=\"span12 section-break\">\\n        <h2 class=\"span3 section-header\">\\n          Recently Shared\\n        </h2>\\n      </div>\\n    </div>\\n    <div class=\"row\" >\\n      <div class=\"span12 nugget-grid\" id=\\'page-content\\'>\\n          <!-- Recent Nuggets Desktop/Mobile -->\\n            <div class=\"nugget-row\">\\n              \\n<div class=\\'nugget clickable analytic_event\\' data-ga-category=\"General\" data-ga-action=\"Nugget Grid\" data-ga-label=\\'/5-reasons-why-my-girlfriend-thinks-shes-not-beautiful-enough-no-matter-what-anyone-tells-her-5\\' data-href=\"/5-reasons-why-my-girlfriend-thinks-shes-not-beautiful-enough-no-matter-what-anyone-tells-her-5\">\\n  <div class=\"spacing\">\\n    <div class=\"meta hidden-phone\">\\n      <a href=\"/rafael-casal\" class=\"avatar hidden-phone\"><img alt=\"Web_66_rafael-casal\" height=\"66\" src=\"//upw-prod-images.global.ssl.fastly.net/account/5192a3ec192c830019009743/web_66_rafael-casal-f3ce886a24a7cdb265d7a6d08329f06e.jpg\" width=\"66\" /></a>\\n      <a href=\"/rafael-casal\">Rafael Casal</a>\\n      <time datetime=\"2014-02-04\" pubdate>Feb  4, 2014</time>\\n    </div>\\n    <div class=\"nugget-image\">\\n      <a href=\"/5-reasons-why-my-girlfriend-thinks-shes-not-beautiful-enough-no-matter-what-anyone-tells-her-5\" class=\"thumb\"><img alt=\"Web_287_a1\" height=\"287\" src=\"//upw-prod-images.global.ssl.fastly.net/nugget/522fb30709e772d556003b71/web_287_a1.jpg\" width=\"287\" /></a>\\n    </div>\\n    <div class=\\'nugget-info\\'>\\n      <div class=\"meta author visible-phone\">\\n        <a href=\"/rafael-casal\">Rafael Casal</a>\\n      </div>\\n      <h3>\\n        <a href=\"/5-reasons-why-my-girlfriend-thinks-shes-not-beautiful-enough-no-matter-what-anyone-tells-her-5\" data-ga-action=\"Nugget Grid\" data-ga-category=\"General\" data-ga-label=\"/5-reasons-why-my-girlfriend-thinks-shes-not-beautiful-enough-no-matter-what-anyone-tells-her-5\" data-href=\"/5-reasons-why-my-girlfriend-thinks-shes-not-beautiful-enough-no-matter-what-anyone-tells-her-5\" rel=\"analytic_event\">5 Reasons Why My Girlfriend Thinks She&#x27;s Not Beautiful Enough, No Matter What Anyone Tells Her</a>\\n      </h3>\\n      <div class=\"meta visible-phone\">\\n        <time datetime=\"2014-02-04\" pubdate>Feb  4, 2014</time>\\n      </div>\\n    </div>\\n  </div>\\n</div><!-- /nugget -->\\n\\n<div class=\\'nugget clickable analytic_event\\' data-ga-category=\"General\" data-ga-action=\"Nugget Grid\" data-ga-label=\\'/the-perfect-reply-a-girl-can-give-to-the-question-whats-your-favorite-position\\' data-href=\"/the-perfect-reply-a-girl-can-give-to-the-question-whats-your-favorite-position\">\\n  <div class=\"spacing\">\\n    <div class=\"meta hidden-phone\">\\n      <a href=\"/rossalyn-warren\" class=\"avatar hidden-phone\"><img alt=\"Web_66_rossalyn-warren\" height=\"66\" src=\"//upw-prod-images.global.ssl.fastly.net/account/5192a3999df7570010002e23/web_66_rossalyn-warren.jpg\" width=\"66\" /></a>\\n      <a href=\"/rossalyn-warren\">Rossalyn  Warren</a>\\n      <time datetime=\"2014-02-04\" pubdate>Feb  4, 2014</time>\\n    </div>\\n    <div class=\"nugget-image\">\\n      <a href=\"/the-perfect-reply-a-girl-can-give-to-the-question-whats-your-favorite-position\" class=\"thumb\"><img alt=\"Web_287_pm\" height=\"287\" src=\"//upw-prod-images.global.ssl.fastly.net/nugget/52f09507955b9d394b00001b/web_287_PM-a3797ba36d900b3999d0724e0d5a69d1.png\" width=\"287\" /></a>\\n    </div>\\n    <div class=\\'nugget-info\\'>\\n      <div class=\"meta author visible-phone\">\\n        <a href=\"/rossalyn-warren\">Rossalyn  Warren</a>\\n      </div>\\n      <h3>\\n        <a href=\"/the-perfect-reply-a-girl-can-give-to-the-question-whats-your-favorite-position\" data-ga-action=\"Nugget Grid\" data-ga-category=\"General\" data-ga-label=\"/the-perfect-reply-a-girl-can-give-to-the-question-whats-your-favorite-position\" data-href=\"/the-perfect-reply-a-girl-can-give-to-the-question-whats-your-favorite-position\" rel=\"analytic_event\">The Perfect Reply A Girl Can Give To The Question &#x27;What&#x27;s Your Favorite Position?&#x27;</a>\\n      </h3>\\n      <div class=\"meta visible-phone\">\\n        <time datetime=\"2014-02-04\" pubdate>Feb  4, 2014</time>\\n      </div>\\n    </div>\\n  </div>\\n</div><!-- /nugget -->\\n\\n<div class=\\'nugget clickable analytic_event\\' data-ga-category=\"General\" data-ga-action=\"Nugget Grid\" data-ga-label=\\'/when-a-simple-idea-like-this-actually-works-and-it-helps-people-get-by-everybody-wins-9\\' data-href=\"/when-a-simple-idea-like-this-actually-works-and-it-helps-people-get-by-everybody-wins-9\">\\n  <div class=\"spacing\">\\n    <div class=\"meta hidden-phone\">\\n      <a href=\"/brandon-weber\" class=\"avatar hidden-phone\"><img alt=\"Web_66_brandon-weber\" height=\"66\" src=\"//upw-prod-images.global.ssl.fastly.net/account/5192a6b3f62409001800e5ed/web_66_brandon-weber.jpg\" width=\"66\" /></a>\\n      <a href=\"/brandon-weber\">Brandon Weber</a>\\n      <time datetime=\"2014-02-04\" pubdate>Feb  4, 2014</time>\\n    </div>\\n    <div class=\"nugget-image\">\\n      <a href=\"/when-a-simple-idea-like-this-actually-works-and-it-helps-people-get-by-everybody-wins-9\" class=\"thumb\"><img alt=\"Web_287_thumb-3\" height=\"287\" src=\"//upw-prod-images.global.ssl.fastly.net/nugget/52eff0593beb59ff87000001/web_287_thumb-3-59e8ff0cbf80b826f568e150d765d9e0.png\" width=\"287\" /></a>\\n    </div>\\n    <div class=\\'nugget-info\\'>\\n      <div class=\"meta author visible-phone\">\\n        <a href=\"/brandon-weber\">Brandon Weber</a>\\n      </div>\\n      <h3>\\n        <a href=\"/when-a-simple-idea-like-this-actually-works-and-it-helps-people-get-by-everybody-wins-9\" data-ga-action=\"Nugget Grid\" data-ga-category=\"General\" data-ga-label=\"/when-a-simple-idea-like-this-actually-works-and-it-helps-people-get-by-everybody-wins-9\" data-href=\"/when-a-simple-idea-like-this-actually-works-and-it-helps-people-get-by-everybody-wins-9\" rel=\"analytic_event\">When A Simple Idea Like This Actually Works And It Helps People Get By, Everybody Wins</a>\\n      </h3>\\n      <div class=\"meta visible-phone\">\\n        <time datetime=\"2014-02-04\" pubdate>Feb  4, 2014</time>\\n      </div>\\n    </div>\\n  </div>\\n</div><!-- /nugget -->\\n\\n            </div>\\n            <div class=\"nugget-row\">\\n              \\n<div class=\\'nugget clickable analytic_event\\' data-ga-category=\"General\" data-ga-action=\"Nugget Grid\" data-ga-label=\\'/one-of-the-biggest-lies-were-encouraged-to-tell-ourselves-about-our-value-to-society-is-right-here\\' data-href=\"/one-of-the-biggest-lies-were-encouraged-to-tell-ourselves-about-our-value-to-society-is-right-here\">\\n  <div class=\"spacing\">\\n    <div class=\"meta hidden-phone\">\\n      <a href=\"/brandon-weber\" class=\"avatar hidden-phone\"><img alt=\"Web_66_brandon-weber\" height=\"66\" src=\"//upw-prod-images.global.ssl.fastly.net/account/5192a6b3f62409001800e5ed/web_66_brandon-weber.jpg\" width=\"66\" /></a>\\n      <a href=\"/brandon-weber\">Brandon Weber</a>\\n      <time datetime=\"2014-02-04\" pubdate>Feb  4, 2014</time>\\n    </div>\\n    <div class=\"nugget-image\">\\n      <a href=\"/one-of-the-biggest-lies-were-encouraged-to-tell-ourselves-about-our-value-to-society-is-right-here\" class=\"thumb\"><img alt=\"Web_287_thumb-1\" height=\"287\" src=\"//upw-prod-images.global.ssl.fastly.net/nugget/52eff74bc473cadc43000004/web_287_thumb-1-44443d9b94c24cdc322cd2aa4634eadb.png\" width=\"287\" /></a>\\n    </div>\\n    <div class=\\'nugget-info\\'>\\n      <div class=\"meta author visible-phone\">\\n        <a href=\"/brandon-weber\">Brandon Weber</a>\\n      </div>\\n      <h3>\\n        <a href=\"/one-of-the-biggest-lies-were-encouraged-to-tell-ourselves-about-our-value-to-society-is-right-here\" data-ga-action=\"Nugget Grid\" data-ga-category=\"General\" data-ga-label=\"/one-of-the-biggest-lies-were-encouraged-to-tell-ourselves-about-our-value-to-society-is-right-here\" data-href=\"/one-of-the-biggest-lies-were-encouraged-to-tell-ourselves-about-our-value-to-society-is-right-here\" rel=\"analytic_event\">One Of The Biggest Lies We\\u2019re Encouraged To Tell Ourselves About Our Value To Society Is Right Here</a>\\n      </h3>\\n      <div class=\"meta visible-phone\">\\n        <time datetime=\"2014-02-04\" pubdate>Feb  4, 2014</time>\\n      </div>\\n    </div>\\n  </div>\\n</div><!-- /nugget -->\\n\\n<div class=\\'nugget clickable analytic_event\\' data-ga-category=\"General\" data-ga-action=\"Nugget Grid\" data-ga-label=\\'/he-was-about-to-take-his-own-life-until-a-man-stopped-him-here-he-meets-him-face-to-face-again-7\\' data-href=\"/he-was-about-to-take-his-own-life-until-a-man-stopped-him-here-he-meets-him-face-to-face-again-7\">\\n  <div class=\"spacing\">\\n    <div class=\"meta hidden-phone\">\\n      <a href=\"/rossalyn-warren\" class=\"avatar hidden-phone\"><img alt=\"Web_66_rossalyn-warren\" height=\"66\" src=\"//upw-prod-images.global.ssl.fastly.net/account/5192a3999df7570010002e23/web_66_rossalyn-warren.jpg\" width=\"66\" /></a>\\n      <a href=\"/rossalyn-warren\">Rossalyn  Warren</a>\\n      <time datetime=\"2014-02-04\" pubdate>Feb  4, 2014</time>\\n    </div>\\n    <div class=\"nugget-image\">\\n      <a href=\"/he-was-about-to-take-his-own-life-until-a-man-stopped-him-here-he-meets-him-face-to-face-again-7\" class=\"thumb\"><img alt=\"Web_287_pm\" height=\"287\" src=\"//upw-prod-images.global.ssl.fastly.net/nugget/52eab69993593b7cd7000004/web_287_PM-c97efab31db4d0c5f1bde08db7eea6f4.png\" width=\"287\" /></a>\\n    </div>\\n    <div class=\\'nugget-info\\'>\\n      <div class=\"meta author visible-phone\">\\n        <a href=\"/rossalyn-warren\">Rossalyn  Warren</a>\\n      </div>\\n      <h3>\\n        <a href=\"/he-was-about-to-take-his-own-life-until-a-man-stopped-him-here-he-meets-him-face-to-face-again-7\" data-ga-action=\"Nugget Grid\" data-ga-category=\"General\" data-ga-label=\"/he-was-about-to-take-his-own-life-until-a-man-stopped-him-here-he-meets-him-face-to-face-again-7\" data-href=\"/he-was-about-to-take-his-own-life-until-a-man-stopped-him-here-he-meets-him-face-to-face-again-7\" rel=\"analytic_event\">He Was About To Take His Own Life \\u2014 Until A Man Stopped Him. Here He Meets Him Face To Face Again.</a>\\n      </h3>\\n      <div class=\"meta visible-phone\">\\n        <time datetime=\"2014-02-04\" pubdate>Feb  4, 2014</time>\\n      </div>\\n    </div>\\n  </div>\\n</div><!-- /nugget -->\\n\\n<div class=\\'nugget clickable analytic_event\\' data-ga-category=\"General\" data-ga-action=\"Nugget Grid\" data-ga-label=\\'/when-i-was-a-kid-an-ad-aired-on-tv-that-i-didnt-fully-get-now-i-want-us-all-to-watch-it-again\\' data-href=\"/when-i-was-a-kid-an-ad-aired-on-tv-that-i-didnt-fully-get-now-i-want-us-all-to-watch-it-again\">\\n  <div class=\"spacing\">\\n    <div class=\"meta hidden-phone\">\\n      <a href=\"/rafael-casal\" class=\"avatar hidden-phone\"><img alt=\"Web_66_rafael-casal\" height=\"66\" src=\"//upw-prod-images.global.ssl.fastly.net/account/5192a3ec192c830019009743/web_66_rafael-casal-f3ce886a24a7cdb265d7a6d08329f06e.jpg\" width=\"66\" /></a>\\n      <a href=\"/rafael-casal\">Rafael Casal</a>\\n      <time datetime=\"2014-02-03\" pubdate>Feb  3, 2014</time>\\n    </div>\\n    <div class=\"nugget-image\">\\n      <a href=\"/when-i-was-a-kid-an-ad-aired-on-tv-that-i-didnt-fully-get-now-i-want-us-all-to-watch-it-again\" class=\"thumb\"><img alt=\"Web_287_am\" height=\"287\" src=\"//upw-prod-images.global.ssl.fastly.net/nugget/52e709e667ffe80ac5000006/web_287_AM-8aa9e7b5595a4dee8a51ce2211ab0db8.png\" width=\"287\" /></a>\\n    </div>\\n    <div class=\\'nugget-info\\'>\\n      <div class=\"meta author visible-phone\">\\n        <a href=\"/rafael-casal\">Rafael Casal</a>\\n      </div>\\n      <h3>\\n        <a href=\"/when-i-was-a-kid-an-ad-aired-on-tv-that-i-didnt-fully-get-now-i-want-us-all-to-watch-it-again\" data-ga-action=\"Nugget Grid\" data-ga-category=\"General\" data-ga-label=\"/when-i-was-a-kid-an-ad-aired-on-tv-that-i-didnt-fully-get-now-i-want-us-all-to-watch-it-again\" data-href=\"/when-i-was-a-kid-an-ad-aired-on-tv-that-i-didnt-fully-get-now-i-want-us-all-to-watch-it-again\" rel=\"analytic_event\">When I Was A Kid, An Ad Aired On TV That I Didn&#x27;t Fully Get. Now, I Want Us All To Watch It Again.</a>\\n      </h3>\\n      <div class=\"meta visible-phone\">\\n        <time datetime=\"2014-02-03\" pubdate>Feb  3, 2014</time>\\n      </div>\\n    </div>\\n  </div>\\n</div><!-- /nugget -->\\n\\n            </div>\\n            <div class=\"nugget-row\">\\n              \\n<div class=\\'nugget clickable analytic_event\\' data-ga-category=\"General\" data-ga-action=\"Nugget Grid\" data-ga-label=\\'/these-parents-think-it-might-be-a-phase-but-they-just-dont-understand-what-it-means-6\\' data-href=\"/these-parents-think-it-might-be-a-phase-but-they-just-dont-understand-what-it-means-6\">\\n  <div class=\"spacing\">\\n    <div class=\"meta hidden-phone\">\\n      <a href=\"/carly-gillis\" class=\"avatar hidden-phone\"><img alt=\"Web_66_carly-gillis-curator\" height=\"66\" src=\"//upw-prod-images.global.ssl.fastly.net/account/523a67ad9a562ad05300ce80/web_66_carly-gillis-curator.jpg\" width=\"66\" /></a>\\n      <a href=\"/carly-gillis\">Carly Gillis</a>\\n      <time datetime=\"2014-02-03\" pubdate>Feb  3, 2014</time>\\n    </div>\\n    <div class=\"nugget-image\">\\n      <a href=\"/these-parents-think-it-might-be-a-phase-but-they-just-dont-understand-what-it-means-6\" class=\"thumb\"><img alt=\"Web_287_autism-signs-5a\" height=\"287\" src=\"//upw-prod-images.global.ssl.fastly.net/nugget/52eae82993593b6c9500000f/web_287_autism-signs-5a-41b5ee6056840ab6aa283ee4f50510cb.png\" width=\"287\" /></a>\\n    </div>\\n    <div class=\\'nugget-info\\'>\\n      <div class=\"meta author visible-phone\">\\n        <a href=\"/carly-gillis\">Carly Gillis</a>\\n      </div>\\n      <h3>\\n        <a href=\"/these-parents-think-it-might-be-a-phase-but-they-just-dont-understand-what-it-means-6\" data-ga-action=\"Nugget Grid\" data-ga-category=\"General\" data-ga-label=\"/these-parents-think-it-might-be-a-phase-but-they-just-dont-understand-what-it-means-6\" data-href=\"/these-parents-think-it-might-be-a-phase-but-they-just-dont-understand-what-it-means-6\" rel=\"analytic_event\">These Parents Think It Might Be A Phase, But They Just Don&#x27;t Understand What It Means</a>\\n      </h3>\\n      <div class=\"meta visible-phone\">\\n        <time datetime=\"2014-02-03\" pubdate>Feb  3, 2014</time>\\n      </div>\\n    </div>\\n  </div>\\n</div><!-- /nugget -->\\n\\n<div class=\\'nugget clickable analytic_event\\' data-ga-category=\"General\" data-ga-action=\"Nugget Grid\" data-ga-label=\\'/how-china-deals-with-internet-addicted-teens-is-kind-of-shocking-and-maybe-a-good-idea-2\\' data-href=\"/how-china-deals-with-internet-addicted-teens-is-kind-of-shocking-and-maybe-a-good-idea-2\">\\n  <div class=\"spacing\">\\n    <div class=\"meta hidden-phone\">\\n      <a href=\"/adam-albright-hanna\" class=\"avatar hidden-phone\"><img alt=\"Web_66_adam-albright-hanna\" height=\"66\" src=\"//upw-prod-images.global.ssl.fastly.net/account/5052143e6e33dd000200017b/web_66_adam-albright-hanna.jpg\" width=\"66\" /></a>\\n      <a href=\"/adam-albright-hanna\">Adam Albright-Hanna</a>\\n      <time datetime=\"2014-02-03\" pubdate>Feb  3, 2014</time>\\n    </div>\\n    <div class=\"nugget-image\">\\n      <a href=\"/how-china-deals-with-internet-addicted-teens-is-kind-of-shocking-and-maybe-a-good-idea-2\" class=\"thumb\"><img alt=\"Web_287_1\" height=\"287\" src=\"//upw-prod-images.global.ssl.fastly.net/nugget/52e7019300a3569707000006/web_287_1-82c761c25fe1bd153203bb10597a7965.jpg\" width=\"287\" /></a>\\n    </div>\\n    <div class=\\'nugget-info\\'>\\n      <div class=\"meta author visible-phone\">\\n        <a href=\"/adam-albright-hanna\">Adam Albright-Hanna</a>\\n      </div>\\n      <h3>\\n        <a href=\"/how-china-deals-with-internet-addicted-teens-is-kind-of-shocking-and-maybe-a-good-idea-2\" data-ga-action=\"Nugget Grid\" data-ga-category=\"General\" data-ga-label=\"/how-china-deals-with-internet-addicted-teens-is-kind-of-shocking-and-maybe-a-good-idea-2\" data-href=\"/how-china-deals-with-internet-addicted-teens-is-kind-of-shocking-and-maybe-a-good-idea-2\" rel=\"analytic_event\">How China Deals With Internet-Addicted Teens Is Kind Of Shocking. And Maybe A Good Idea?</a>\\n      </h3>\\n      <div class=\"meta visible-phone\">\\n        <time datetime=\"2014-02-03\" pubdate>Feb  3, 2014</time>\\n      </div>\\n    </div>\\n  </div>\\n</div><!-- /nugget -->\\n\\n<div class=\\'nugget clickable analytic_event\\' data-ga-category=\"General\" data-ga-action=\"Nugget Grid\" data-ga-label=\\'/if-you-want-a-successful-long-term-relationship-of-any-kind-here-are-3-invaluable-things-to-know-6\\' data-href=\"/if-you-want-a-successful-long-term-relationship-of-any-kind-here-are-3-invaluable-things-to-know-6\">\\n  <div class=\"spacing\">\\n    <div class=\"meta hidden-phone\">\\n      <a href=\"/rafael-casal\" class=\"avatar hidden-phone\"><img alt=\"Web_66_rafael-casal\" height=\"66\" src=\"//upw-prod-images.global.ssl.fastly.net/account/5192a3ec192c830019009743/web_66_rafael-casal-f3ce886a24a7cdb265d7a6d08329f06e.jpg\" width=\"66\" /></a>\\n      <a href=\"/rafael-casal\">Rafael Casal</a>\\n      <time datetime=\"2014-02-03\" pubdate>Feb  3, 2014</time>\\n    </div>\\n    <div class=\"nugget-image\">\\n      <a href=\"/if-you-want-a-successful-long-term-relationship-of-any-kind-here-are-3-invaluable-things-to-know-6\" class=\"thumb\"><img alt=\"Web_287_pm\" height=\"287\" src=\"//upw-prod-images.global.ssl.fastly.net/nugget/52ef1fb9612cf58e29000010/web_287_PM-22a0f4d051b2067406c21e982d12216f.png\" width=\"287\" /></a>\\n    </div>\\n    <div class=\\'nugget-info\\'>\\n      <div class=\"meta author visible-phone\">\\n        <a href=\"/rafael-casal\">Rafael Casal</a>\\n      </div>\\n      <h3>\\n        <a href=\"/if-you-want-a-successful-long-term-relationship-of-any-kind-here-are-3-invaluable-things-to-know-6\" data-ga-action=\"Nugget Grid\" data-ga-category=\"General\" data-ga-label=\"/if-you-want-a-successful-long-term-relationship-of-any-kind-here-are-3-invaluable-things-to-know-6\" data-href=\"/if-you-want-a-successful-long-term-relationship-of-any-kind-here-are-3-invaluable-things-to-know-6\" rel=\"analytic_event\">If You Want A Successful Long-Term Relationship (Of Any Kind), Here Are 3 Invaluable Things To Know</a>\\n      </h3>\\n      <div class=\"meta visible-phone\">\\n        <time datetime=\"2014-02-03\" pubdate>Feb  3, 2014</time>\\n      </div>\\n    </div>\\n  </div>\\n</div><!-- /nugget -->\\n\\n            </div>\\n      </div><!-- /.span12 -->\\n      <div class=\\'span12 loading-row\\'>\\n        <div id=\"loading\">\\n          <div class=\"spinner\"></div>\\n          loading\\n        </div>\\n      </div>\\n    </div>\\n    <div class=\"row\">\\n      <!--  desktop search/browsing options -->\\n      <div class=\"span12 browse-options hidden-phone\">\\n        <div class=\"nugget-row\">\\n          <div class=\"option browse\">\\n            <div class=\"btn-group\">\\n              <!-- category/topic dropdown -->\\n              <a href=\"#\" class=\"btn dropdown-toggle analytic_event\" data-toggle=\"dropdown\" data-ga-category=\"Homepage\" data-ga-action=\"Browse Categories\"><span class=\"caret\"></span>Explore <span class=\"visible-desktop\">Categories</span></a>\\n              <ul class=\"dropdown-menu pull-left\" role=\"menu\" aria-labelledby=\"dropdownMenu\">\\n  <li class=\"browse\">\\n    <ul>\\n        <li><a href=\"all-7-billion\">All 7 Billion</a></li>\\n        <li><a href=\"community\">Community</a></li>\\n        <li><a href=\"diversity\">Diversity</a></li>\\n        <li><a href=\"economy\">Economy</a></li>\\n        <li><a href=\"entertainment-culture\">Entertainment &amp; Culture</a></li>\\n        <li><a href=\"environment\">Environment</a></li>\\n        <li><a href=\"gender\">Gender</a></li>\\n        <li><a href=\"guns-crime\">Guns &amp; Crime</a></li>\\n        <li><a href=\"health\">Health</a></li>\\n        <li><a href=\"immigration\">Immigration</a></li>\\n        <li><a href=\"inspirational\">Inspirational</a></li>\\n        <li><a href=\"international\">International</a></li>\\n        <li><a href=\"lgbtqq\">LGBTQQ</a></li>\\n        <li><a href=\"military\">Military</a></li>\\n        <li><a href=\"parenting\">Parenting</a></li>\\n        <li><a href=\"politics\">Politics</a></li>\\n        <li><a href=\"science-technology\">Science &amp; Technology</a></li>\\n        <li><a href=\"spanish\">Spanish</a></li>\\n        <li><a href=\"workonomics\">Workonomics</a></li>\\n  </ul>\\n\\n  </li>\\n</ul>\\n\\n            </div>\\n          </div>\\n          <div class=\"option load\">\\n            <a href=\"#\" class=\"btn btn-primary analytic_event\" id=\"load-more\" data-ga-category=\"Homepage\" data-ga-action=\"Load More Nuggets\"><span class=\"icon\"></span> Load More <span class=\"visible-desktop\">Stories</span></a></div>\\n          <div class=\"option search\">\\n            <form method=\"get\" id=\"search\" class=\"form-search\" action=\"/search\">\\n  <input type=\"text\" name=\"q\" class=\"input-medium search-query analytic_event\" placeholder=\"Search Stories\" data-ga-category=\"Homepage\" data-ga-action=\"Nugget Search\">\\n  <input type=\"submit\" value=\"Search\" class=\"btn\">\\n</form>\\n          </div>\\n        </div>\\n      </div>\\n      <!-- mobile search/browsing options -->\\n      <div class=\"span12 browse-options visible-phone\">\\n        <div class=\"nugget-row\">\\n          <div id=\"mobile-option-container\">\\n            <div class=\"option browse\">\\n              <div class=\"btn-group\">\\n                <!-- category/topic dropdown -->\\n                <a href=\"#\" id=\"mobile-category-dropdown\" class=\"btn dropdown-toggle analytic_event\" data-toggle=\"dropdown\" data-ga-category=\"Homepage\" data-ga-action=\"Browse Categories\"><span class=\"caret\"></span>Explore</a>\\n                <ul class=\"dropdown-menu pull-left\" role=\"menu\" aria-labelledby=\"dropdownMenu\">\\n  <li class=\"browse\">\\n    <ul>\\n        <li><a href=\"all-7-billion\">All 7 Billion</a></li>\\n        <li><a href=\"community\">Community</a></li>\\n        <li><a href=\"diversity\">Diversity</a></li>\\n        <li><a href=\"economy\">Economy</a></li>\\n        <li><a href=\"entertainment-culture\">Entertainment &amp; Culture</a></li>\\n        <li><a href=\"environment\">Environment</a></li>\\n        <li><a href=\"gender\">Gender</a></li>\\n        <li><a href=\"guns-crime\">Guns &amp; Crime</a></li>\\n        <li><a href=\"health\">Health</a></li>\\n        <li><a href=\"immigration\">Immigration</a></li>\\n        <li><a href=\"inspirational\">Inspirational</a></li>\\n        <li><a href=\"international\">International</a></li>\\n        <li><a href=\"lgbtqq\">LGBTQQ</a></li>\\n        <li><a href=\"military\">Military</a></li>\\n        <li><a href=\"parenting\">Parenting</a></li>\\n        <li><a href=\"politics\">Politics</a></li>\\n        <li><a href=\"science-technology\">Science &amp; Technology</a></li>\\n        <li><a href=\"spanish\">Spanish</a></li>\\n        <li><a href=\"workonomics\">Workonomics</a></li>\\n  </ul>\\n\\n  </li>\\n</ul>\\n\\n              </div>\\n            </div>\\n            <div class=\"option load\"><a href=\"#\" class=\"btn btn-primary analytic_event\" id=\"mobile-load-more\" data-ga-category=\"Homepage - Mobile\" data-ga-action=\"Load More Nuggets\">Load More Stories</a></div>\\n            <div class=\"option search-init\"><a href=\"#\" class=\"btn analytic_event\" id=\"search-init\" data-ga-category=\"Homepage\" data-ga-action=\"Mobile Search Button\">Search</a></div>\\n          </div>\\n          <div id=\"mobile-search-container\">\\n            <form method=\"get\" id=\"mobile-search\" class=\"form-search\" action=\"/search\">\\n              <input type=\"text\" id=\"mobile-search-field\" name=\"q\" class=\"input-medium search-query analytic_event\" placeholder=\"Search Stories\" data-ga-category=\"Homepage - Mobile\" data-ga-action=\"Mobile Nugget Search Form\">\\n              <input type=\"submit\" value=\"Search\" class=\"btn\">\\n            </form>\\n          </div>\\n        </div>\\n      </div>\\n    </div>\\n  </div>\\n</div>\\n\\n    </div><!-- /container -->\\n  </div><!-- /wrapper -->\\n\\n  <div id=\"curator-list\" class=\"visible-desktop\">\\n    <div class=\"container\">\\n      <div class=\"row\">\\n        <div class=\"span6 sponsorship\">\\n          <div class=\"spacer\">\\n            <h2>New Sections!</h2>\\n            <div class=\"all7billion sponsor clickable\" data-ga-category=\"Homepage\" data-ga-action=\"Sponsored Section\" data-href=\"/all-7-billion\">\\n              <a href=\"/all-7-billion\"><img src=\"https://upworthy-production.s3.amazonaws.com/nugget/520980e594f4eb641a000348/web_287_TN4.jpg\" class=\"sponsor-section-img\"></a>\\n              <h3>\\n                <a href=\"/all-7-billion\">\\n                  <span class=\"sponsorship-title\">All 7 Billion</span>\\n                  <span class=\"presented\">presented by</span> <img alt=\"Gates-foundation-logo\" src=\"/assets/sponsorships/gates-foundation-logo-3db7a632217b3ad10165145cff318ab9.png\" />\\n                </a>\\n              </h3>\\n              <p>\\n                A special Upworthy series about global health and\\npoverty. <br><a href=\"/all-7-billion\">Check it out!</a>\\n              </p>\\n            </div>\\n            <div class=\"workonomics sponsor clickable\" data-ga-category=\"Homepage\" data-ga-action=\"Sponsored Section\" data-href=\"/workonomics\">\\n              <a href=\"/workonomics\"><img src=\"https://upworthy-production.s3.amazonaws.com/nugget/527a6e794a790f85ae009a90/web_287_thumb-4.jpg\" class=\"sponsor-section-img\"></a>\\n              <h3>\\n                <a href=\"/workonomics\">\\n                  <span class=\"sponsorship-title\">Workonomics</span>\\n                  <span class=\"presented\">presented by</span> <img alt=\"Afl-logo\" src=\"/assets/sponsorships/afl-logo-760c1f359da0c005163a12f8355dac48.png\" />\\n                </a>\\n              </h3>\\n              <p>\\n                A special Upworthy series about\\n                work and the economy. <br><a href=\"/workonomics\">Check it out!</a>\\n              </p>\\n            </div>\\n          </div>\\n        </div>\\n        <div class=\"span6\">\\n          <h2>Some Of Our Curators</h2>\\n          <div class=\"row\">\\n            <div class=\"span3 curator analytic_event clickable\" data-ga-category=\"Homepage\" data-ga-action=\"Featured Curator List\" data-href=\"/adam-albright-hanna\">\\n  <div class=\"spacing\">\\n    <a href=\"/adam-albright-hanna\" class=\"avatar\"><img alt=\"Web_66_adam-albright-hanna\" height=\"70\" src=\"//upw-prod-images.global.ssl.fastly.net/account/5052143e6e33dd000200017b/web_66_adam-albright-hanna.jpg\" width=\"70\" /></a>\\n    <div class=\"info\">\\n      <a href=\"/adam-albright-hanna\">Adam Albright-Hanna</a>\\n        <div class=\"twitter_follow\" data-placement=\\'homepage\\'>\\n          <a href=\\'https://twitter.com/adamah\\' class=\\'twitter-follow-button\\' data-show-count=\\'false\\' data-size=\\'small\\' data-show-screen-name=\\'false\\'>Follow @adamah</a><script>!function(d,s,id){var js,fjs=d.getElementsByTagName(s)[0];if(!d.getElementById(id)){js=d.createElement(s);js.id=id;js.src=\\'//platform.twitter.com/widgets.js\\';fjs.parentNode.insertBefore(js,fjs);}}(document,\\'script\\',\\'twitter-wjs\\');</script>\\n        </div><!--/twitter_follow-->\\n        <div class=\"facebook_subscribe\">\\n          <div id=\\'fb-curator_homepage\\' class=\\'fb-like desktop\\' data-href=\\'http://www.facebook.com/AdamAlbrightHanna?pos=homepage\\' data-action=\\'like\\' data-show-faces=\\'false\\' data-share=\\'false\\' data-colorscheme=\\'light\\' data-layout=\\'button_count\\' data-width=\\'200\\'></div>\\n        </div><!--/facebook_subscribe-->\\n    </div>\\n  </div>\\n</div>\\n<div class=\"span3 curator analytic_event clickable\" data-ga-category=\"Homepage\" data-ga-action=\"Featured Curator List\" data-href=\"/brandon-weber\">\\n  <div class=\"spacing\">\\n    <a href=\"/brandon-weber\" class=\"avatar\"><img alt=\"Web_66_brandon-weber\" height=\"70\" src=\"//upw-prod-images.global.ssl.fastly.net/account/5192a6b3f62409001800e5ed/web_66_brandon-weber.jpg\" width=\"70\" /></a>\\n    <div class=\"info\">\\n      <a href=\"/brandon-weber\">Brandon Weber</a>\\n        <div class=\"twitter_follow\" data-placement=\\'homepage\\'>\\n          <a href=\\'https://twitter.com/brandonweber_UP\\' class=\\'twitter-follow-button\\' data-show-count=\\'false\\' data-size=\\'small\\' data-show-screen-name=\\'false\\'>Follow @brandonweber_UP</a><script>!function(d,s,id){var js,fjs=d.getElementsByTagName(s)[0];if(!d.getElementById(id)){js=d.createElement(s);js.id=id;js.src=\\'//platform.twitter.com/widgets.js\\';fjs.parentNode.insertBefore(js,fjs);}}(document,\\'script\\',\\'twitter-wjs\\');</script>\\n        </div><!--/twitter_follow-->\\n        <div class=\"facebook_subscribe\">\\n          <div id=\\'fb-curator_homepage\\' class=\\'fb-like desktop\\' data-href=\\'http://www.facebook.com/brandon.weber.upw?pos=homepage\\' data-action=\\'like\\' data-show-faces=\\'false\\' data-share=\\'false\\' data-colorscheme=\\'light\\' data-layout=\\'button_count\\' data-width=\\'200\\'></div>\\n        </div><!--/facebook_subscribe-->\\n    </div>\\n  </div>\\n</div>\\n<div class=\"span3 curator analytic_event clickable\" data-ga-category=\"Homepage\" data-ga-action=\"Featured Curator List\" data-href=\"/carly-gillis\">\\n  <div class=\"spacing\">\\n    <a href=\"/carly-gillis\" class=\"avatar\"><img alt=\"Web_66_carly-gillis-curator\" height=\"70\" src=\"//upw-prod-images.global.ssl.fastly.net/account/523a67ad9a562ad05300ce80/web_66_carly-gillis-curator.jpg\" width=\"70\" /></a>\\n    <div class=\"info\">\\n      <a href=\"/carly-gillis\">Carly Gillis</a>\\n        <div class=\"twitter_follow\" data-placement=\\'homepage\\'>\\n          <a href=\\'https://twitter.com/carlyrosegillis\\' class=\\'twitter-follow-button\\' data-show-count=\\'false\\' data-size=\\'small\\' data-show-screen-name=\\'false\\'>Follow @carlyrosegillis</a><script>!function(d,s,id){var js,fjs=d.getElementsByTagName(s)[0];if(!d.getElementById(id)){js=d.createElement(s);js.id=id;js.src=\\'//platform.twitter.com/widgets.js\\';fjs.parentNode.insertBefore(js,fjs);}}(document,\\'script\\',\\'twitter-wjs\\');</script>\\n        </div><!--/twitter_follow-->\\n        <div class=\"facebook_subscribe\">\\n          <div id=\\'fb-curator_homepage\\' class=\\'fb-like desktop\\' data-href=\\'http://www.facebook.com/carlyrosegillis?pos=homepage\\' data-action=\\'like\\' data-show-faces=\\'false\\' data-share=\\'false\\' data-colorscheme=\\'light\\' data-layout=\\'button_count\\' data-width=\\'200\\'></div>\\n        </div><!--/facebook_subscribe-->\\n    </div>\\n  </div>\\n</div>\\n<div class=\"span3 curator analytic_event clickable\" data-ga-category=\"Homepage\" data-ga-action=\"Featured Curator List\" data-href=\"/morgan-shoaff\">\\n  <div class=\"spacing\">\\n    <a href=\"/morgan-shoaff\" class=\"avatar\"><img alt=\"Web_66_morgan-shoaff\" height=\"70\" src=\"//upw-prod-images.global.ssl.fastly.net/account/52524af477455e640d0016d6/web_66_Morgan-shoaff.jpg\" width=\"70\" /></a>\\n    <div class=\"info\">\\n      <a href=\"/morgan-shoaff\">Morgan Shoaff</a>\\n        <div class=\"twitter_follow\" data-placement=\\'homepage\\'>\\n          <a href=\\'https://twitter.com/morganized\\' class=\\'twitter-follow-button\\' data-show-count=\\'false\\' data-size=\\'small\\' data-show-screen-name=\\'false\\'>Follow @morganized</a><script>!function(d,s,id){var js,fjs=d.getElementsByTagName(s)[0];if(!d.getElementById(id)){js=d.createElement(s);js.id=id;js.src=\\'//platform.twitter.com/widgets.js\\';fjs.parentNode.insertBefore(js,fjs);}}(document,\\'script\\',\\'twitter-wjs\\');</script>\\n        </div><!--/twitter_follow-->\\n        <div class=\"facebook_subscribe\">\\n          <div id=\\'fb-curator_homepage\\' class=\\'fb-like desktop\\' data-href=\\'http://www.facebook.com/morganinthemiddle?pos=homepage\\' data-action=\\'like\\' data-show-faces=\\'false\\' data-share=\\'false\\' data-colorscheme=\\'light\\' data-layout=\\'button_count\\' data-width=\\'200\\'></div>\\n        </div><!--/facebook_subscribe-->\\n    </div>\\n  </div>\\n</div>\\n<div class=\"span3 curator analytic_event clickable\" data-ga-category=\"Homepage\" data-ga-action=\"Featured Curator List\" data-href=\"/rafael-casal\">\\n  <div class=\"spacing\">\\n    <a href=\"/rafael-casal\" class=\"avatar\"><img alt=\"Web_66_rafael-casal\" height=\"70\" src=\"//upw-prod-images.global.ssl.fastly.net/account/5192a3ec192c830019009743/web_66_rafael-casal-f3ce886a24a7cdb265d7a6d08329f06e.jpg\" width=\"70\" /></a>\\n    <div class=\"info\">\\n      <a href=\"/rafael-casal\">Rafael Casal</a>\\n        <div class=\"twitter_follow\" data-placement=\\'homepage\\'>\\n          <a href=\\'https://twitter.com/rafaelcasal\\' class=\\'twitter-follow-button\\' data-show-count=\\'false\\' data-size=\\'small\\' data-show-screen-name=\\'false\\'>Follow @rafaelcasal</a><script>!function(d,s,id){var js,fjs=d.getElementsByTagName(s)[0];if(!d.getElementById(id)){js=d.createElement(s);js.id=id;js.src=\\'//platform.twitter.com/widgets.js\\';fjs.parentNode.insertBefore(js,fjs);}}(document,\\'script\\',\\'twitter-wjs\\');</script>\\n        </div><!--/twitter_follow-->\\n        <div class=\"facebook_subscribe\">\\n          <div id=\\'fb-curator_homepage\\' class=\\'fb-like desktop\\' data-href=\\'http://www.facebook.com/rafaelcasal?pos=homepage\\' data-action=\\'like\\' data-show-faces=\\'false\\' data-share=\\'false\\' data-colorscheme=\\'light\\' data-layout=\\'button_count\\' data-width=\\'200\\'></div>\\n        </div><!--/facebook_subscribe-->\\n    </div>\\n  </div>\\n</div>\\n<div class=\"span3 curator analytic_event clickable\" data-ga-category=\"Homepage\" data-ga-action=\"Featured Curator List\" data-href=\"/rossalyn-warren\">\\n  <div class=\"spacing\">\\n    <a href=\"/rossalyn-warren\" class=\"avatar\"><img alt=\"Web_66_rossalyn-warren\" height=\"70\" src=\"//upw-prod-images.global.ssl.fastly.net/account/5192a3999df7570010002e23/web_66_rossalyn-warren.jpg\" width=\"70\" /></a>\\n    <div class=\"info\">\\n      <a href=\"/rossalyn-warren\">Rossalyn  Warren</a>\\n        <div class=\"twitter_follow\" data-placement=\\'homepage\\'>\\n          <a href=\\'https://twitter.com/RossalynWarren\\' class=\\'twitter-follow-button\\' data-show-count=\\'false\\' data-size=\\'small\\' data-show-screen-name=\\'false\\'>Follow @RossalynWarren</a><script>!function(d,s,id){var js,fjs=d.getElementsByTagName(s)[0];if(!d.getElementById(id)){js=d.createElement(s);js.id=id;js.src=\\'//platform.twitter.com/widgets.js\\';fjs.parentNode.insertBefore(js,fjs);}}(document,\\'script\\',\\'twitter-wjs\\');</script>\\n        </div><!--/twitter_follow-->\\n        <div class=\"facebook_subscribe\">\\n          <div id=\\'fb-curator_homepage\\' class=\\'fb-like desktop\\' data-href=\\'http://www.facebook.com/RossalynWarren?pos=homepage\\' data-action=\\'like\\' data-show-faces=\\'false\\' data-share=\\'false\\' data-colorscheme=\\'light\\' data-layout=\\'button_count\\' data-width=\\'200\\'></div>\\n        </div><!--/facebook_subscribe-->\\n    </div>\\n  </div>\\n</div>\\n\\n          </div>\\n        </div>\\n      </div>\\n    </div>\\n  </div>\\n\\n  <footer id=\"page-footer\" class=\\'container\\'>\\n    <div class=\"row\">\\n      <nav class=\\'span12\\' id=\\'navMenuFooter\\'>\\n        <a href=\"/\" id=\"footer-stamp\"></a>\\n        <ul>\\n          <li><a href=\"http://blog.upworthy.com\" class=\"analytic_event\" data-ga-action=\"Blog\" data-ga-category=\"General\" data-ga-label=\"pageTitle\">Blog</a></li>\\n          <li><a href=\"/contact\" class=\"analytic_event\" data-ga-action=\"Contact\" data-ga-category=\"General\" data-ga-label=\"pageTitle\">Contact</a></li>\\n          <li><a href=\"/about\" class=\"analytic_event\" data-ga-action=\"About\" data-ga-category=\"General\" data-ga-label=\"pageTitle\">About &amp; FAQ</a></li>\\n          <li><a href=\"/jobs\" class=\"analytic_event\" data-ga-action=\"Jobs\" data-ga-category=\"General\" data-ga-label=\"pageTitle\">Jobs</a></li>\\n          <li><a href=\"/privacy\" class=\"analytic_event\" data-ga-action=\"Privacy\" data-ga-category=\"General\" data-ga-label=\"pageTitle\">Privacy</a></li>\\n          <li><a href=\"/tos\" class=\"analytic_event\" data-ga-action=\"TOS\" data-ga-category=\"General\" data-ga-label=\"pageTitle\">Terms</a></li>\\n          <li><a href=\"/best-of\" class=\"analytic_event\" data-ga-action=\"Best Of\" data-ga-category=\"General\" data-ga-label=\"pageTitle\">Best Of</a></li>\\n          <li><a href=\"/random\" class=\"analytic_event\" data-ga-action=\"Random Nugget\" data-ga-category=\"General\" data-ga-label=\"pageTitle\">Random</a></li>\\n          <li><a href=\"http://feeds.feedburner.com/upworthy\" class=\"analytic_event\" data-ga-action=\"Feed\" data-ga-category=\"General\" data-ga-label=\"pageTitle\">RSS Feed</a></li>\\n        </ul>\\n      </nav><!--/navMenuFooter-->\\n    </div>\\n  </footer>\\n\\n  <!-- NUGGETS: lightbox zooming for large images -->\\n  <div id=\"lightbox\">\\n    <div class=\"controls\"><span class=\"hidden-desktop instructions\"><span class=\"icon\"></span> Pinch or double-tap to zoom</span> <a class=\"close\">Close <span class=\"icon\"></span></a></div>\\n    <div id=\"lightbox-content\">\\n      <div id=\"scroller\">\\n        <img src=\"#\" id=\"placeholder\" alt=\"Image Detail\">\\n      </div>\\n      <span class=\"icon zoomIndicator\"></span>\\n    </div>\\n  </div>\\n\\n  <!-- IE8 Users: Display Chrome download text -->\\n  <div id=\"olderbrowsers\">\\n    <a class=\"close icon\">Close</a>\\n    <div class=\"container\">\\n      Hi there, you\\'re using an old web browser to view Upworthy. We recommend <a href=\"https://support.google.com/chrome/answer/95346?hl=en\" target=\"_blank\">downloading Google Chrome</a> for the best experience. We only want the best for you. Have a great day!\\n    </div>\\n  </div>\\n\\n  <!-- JavaScript Includes -->\\n  <script src=\"/assets/application-e1ac0f75a71cf167ee09cc19ce69e5e5.js\" type=\"text/javascript\"></script>\\n\\n  <!-- external analytics & services -->\\n\\n\\n    <!-- Optimizely -->\\n    <script src=\"//cdn.optimizely.com/js/38179760.js\"></script>\\n\\n    <!-- Begin Quantcast -->\\n    <script type=\"text/javascript\">\\n    var _qevents = _qevents || [];\\n\\n    (function() {\\n    var elem = document.createElement(\\'script\\');\\n    elem.src = (document.location.protocol == \"https:\" ? \"https://secure\" : \"http://edge\") + \".quantserve.com/quant.js\";\\n    elem.async = true;\\n    elem.type = \"text/javascript\";\\n    var scpt = document.getElementsByTagName(\\'script\\')[0];\\n    scpt.parentNode.insertBefore(elem, scpt);\\n    })();\\n\\n    _qevents.push({\\n    qacct:\"p-46reRfD7EnxVE\"\\n    });\\n    </script>\\n    <noscript>\\n    <div style=\"display:none;\">\\n    <img src=\"//pixel.quantserve.com/pixel/p-46reRfD7EnxVE.gif\" border=\"0\" height=\"1\" width=\"1\" alt=\"Quantcast\"/>\\n    </div>\\n    </noscript>\\n    <!-- End Quantcast -->\\n\\n    <!-- START Parse.ly Include: Standard -->\\n    <div id=\"parsely-root\" style=\"display: none\">\\n      <div id=\"parsely-cfg\" data-parsely-site=\"upworthy.com\"></div>\\n    </div>\\n    <script>\\n      (function(s, p, d) {\\n        var h=d.location.protocol, i=p+\"-\"+s,\\n            e=d.getElementById(i), r=d.getElementById(p+\"-root\"),\\n            u=h===\"https:\"?\"d1z2jf7jlzjs58.cloudfront.net\"\\n            :\"static.\"+p+\".com\";\\n        if (e) return;\\n        e = d.createElement(s); e.id = i; e.async = true;\\n        e.src = h+\"//\"+u+\"/p.js\"; r.appendChild(e);\\n      })(\"script\", \"parsely\", document);\\n    </script>\\n    <!-- END Parse.ly Include -->\\n\\n\\n  <!-- Google custom search -->\\n  <script>\\n    (function() {\\n      var cx = \\'013565259187176721019:0gj-6p_qm34\\';\\n      var gcse = document.createElement(\\'script\\'); gcse.type = \\'text/javascript\\'; gcse.async = true;\\n      gcse.src = (document.location.protocol == \\'https:\\' ? \\'https:\\' : \\'http:\\') +\\n          \\'//www.google.com/cse/cse.js?cx=\\' + cx;\\n      var s = document.getElementsByTagName(\\'script\\')[0]; s.parentNode.insertBefore(gcse, s);\\n    })();\\n  </script>\\n\\n  <div class=\"remarketing_wrapper\">\\n    <!-- GOOGLE REMARKETING SNIPPET -->\\n    <!-- Google Code for Upworthy 7 Day -->\\n    <script type=\"text/javascript\">\\n    /* <![CDATA[ */\\n    var google_conversion_id = 995246723;\\n    var google_conversion_label = \"7Z2CCL2ssQQQg4XJ2gM\";\\n    var google_custom_params = window.google_tag_params;\\n    var google_remarketing_only = true;\\n    /* ]]> */\\n    </script>\\n    <script type=\"text/javascript\" src=\"//www.googleadservices.com/pagead/conversion.js\">\\n    </script>\\n    <noscript>\\n    <div style=\"display:inline;\">\\n    <img height=\"1\" width=\"1\" style=\"border-style:none;\" alt=\"\" src=\"//googleads.g.doubleclick.net/pagead/viewthroughconversion/995246723/?value=0&amp;label=7Z2CCL2ssQQQg4XJ2gM&amp;guid=ON&amp;script=0\"/>\\n    </div>\\n    </noscript>\\n\\n    <!-- GOOGLE REMARKETING SNIPPET -->\\n    <!-- Google Code for Upworthy Max Time Period -->\\n    <script type=\"text/javascript\">\\n    /* <![CDATA[ */\\n    var google_conversion_id = 995246723;\\n    var google_conversion_label = \"pMQ7CLWtsQQQg4XJ2gM\";\\n    var google_custom_params = window.google_tag_params;\\n    var google_remarketing_only = true;\\n    /* ]]> */\\n    </script>\\n    <script type=\"text/javascript\" src=\"//www.googleadservices.com/pagead/conversion.js\">\\n    </script>\\n    <noscript>\\n    <div style=\"display:inline; visibility: hidden;\">\\n    <img height=\"1\" width=\"1\" style=\"border-style:none;\" alt=\"\" src=\"//googleads.g.doubleclick.net/pagead/viewthroughconversion/995246723/?value=0&amp;label=pMQ7CLWtsQQQg4XJ2gM&amp;guid=ON&amp;script=0\"/>\\n    </div>\\n    </noscript>\\n  </div>\\n<script type=\"text/javascript\">if (!NREUMQ.f) { NREUMQ.f=function() {\\nNREUMQ.push([\"load\",new Date().getTime()]);\\nvar e=document.createElement(\"script\");\\ne.type=\"text/javascript\";\\ne.src=((\"http:\"===document.location.protocol)?\"http:\":\"https:\") + \"//\" +\\n  \"js-agent.newrelic.com/nr-100.js\";\\ndocument.body.appendChild(e);\\nif(NREUMQ.a)NREUMQ.a();\\n};\\nNREUMQ.a=window.onload;window.onload=NREUMQ.f;\\n};\\nNREUMQ.push([\"nrfj\",\"beacon-2.newrelic.com\",\"79d9c6f0de\",\"3484703\",\"dQtfQkBYWQpTRUtXR1EDVEJBGFwIUlIc\",27,230,new Date().getTime(),\"\",\"\",\"\",\"\",\"\"]);</script></body>\\n</html>\\n'"
       ]
      }
     ],
     "prompt_number": 57
    },
    {
     "cell_type": "code",
     "collapsed": false,
     "input": [
      "page_html = page.text"
     ],
     "language": "python",
     "metadata": {
      "slideshow": {
       "slide_type": "slide"
      }
     },
     "outputs": [],
     "prompt_number": 58
    },
    {
     "cell_type": "markdown",
     "metadata": {
      "slideshow": {
       "slide_type": "slide"
      }
     },
     "source": [
      "Look at the source code of a sample page.\n",
      "\n",
      "![](https://raw.github.com/nealcaren/workshop_2014/master/notebooks/images/show_source.png)"
     ]
    },
    {
     "cell_type": "markdown",
     "metadata": {
      "slideshow": {
       "slide_type": "slide"
      }
     },
     "source": [
      "Look at the source code of a sample page.\n",
      "\n",
      "![](https://raw.github.com/nealcaren/workshop_2014/master/notebooks/images/showing_source.png)"
     ]
    },
    {
     "cell_type": "markdown",
     "metadata": {
      "slideshow": {
       "slide_type": "slide"
      }
     },
     "source": [
      "When a simple idea...\n",
      "\n",
      "![](https://raw.github.com/nealcaren/workshop_2014/master/notebooks/images/up_sample.png)"
     ]
    },
    {
     "cell_type": "markdown",
     "metadata": {
      "slideshow": {
       "slide_type": "slide"
      }
     },
     "source": [
      "![](https://raw.github.com/nealcaren/workshop_2014/master/notebooks/images/search.png)"
     ]
    },
    {
     "cell_type": "markdown",
     "metadata": {
      "slideshow": {
       "slide_type": "fragment"
      }
     },
     "source": [
      "So our headline is here:\n",
      "\n",
      "`rel=\"analytic_event\">When A Simple Idea Like This Actually Works And It Helps People Get By, Everybody Wins<`"
     ]
    },
    {
     "cell_type": "markdown",
     "metadata": {
      "slideshow": {
       "slide_type": "fragment"
      }
     },
     "source": [
      "which fits the pattern\n",
      "\n",
      "`rel=\"analytic_event\">HEADLINE<`"
     ]
    },
    {
     "cell_type": "markdown",
     "metadata": {
      "slideshow": {
       "slide_type": "slide"
      }
     },
     "source": [
      "Regular expressions\n",
      "\n",
      "xkcd - 208\n",
      "\n",
      "![](https://raw.github.com/nealcaren/workshop_2014/master/notebooks/images/regular_expressions.png)"
     ]
    },
    {
     "cell_type": "markdown",
     "metadata": {
      "slideshow": {
       "slide_type": "slide"
      }
     },
     "source": [
      "Regular expressions\n",
      "\n",
      "xkcd - 1171\n",
      "\n",
      "![](https://raw.github.com/nealcaren/workshop_2014/master/notebooks/images/perl_problems.png)"
     ]
    },
    {
     "cell_type": "code",
     "collapsed": false,
     "input": [
      "import re"
     ],
     "language": "python",
     "metadata": {
      "slideshow": {
       "slide_type": "slide"
      }
     },
     "outputs": [],
     "prompt_number": 59
    },
    {
     "cell_type": "markdown",
     "metadata": {
      "slideshow": {
       "slide_type": "slide"
      }
     },
     "source": [
      "`HEADLINE` becomes `(.*?)`\n",
      "\n",
      "`.`  match any character  \n",
      "`*`  and keep going  \n",
      "`?`  until you find the first ..."
     ]
    },
    {
     "cell_type": "code",
     "collapsed": false,
     "input": [
      "re.findall('rel=\"analytic_event\">.*?<', page_html)   "
     ],
     "language": "python",
     "metadata": {
      "slideshow": {
       "slide_type": "slide"
      }
     },
     "outputs": [
      {
       "metadata": {},
       "output_type": "pyout",
       "prompt_number": 60,
       "text": [
        "[u'rel=\"analytic_event\"><',\n",
        " u'rel=\"analytic_event\">30,000 People Die Each Year Getting Something They Don&#x27;t Need. It&#x27;s Time We Address The Problem.<',\n",
        " u'rel=\"analytic_event\"><',\n",
        " u'rel=\"analytic_event\">Laura Willard<',\n",
        " u'rel=\"analytic_event\"><',\n",
        " u'rel=\"analytic_event\">&#x27;I Just Wanted To Die&#x27; And &#x27;Maybe I Deserved This&#x27; Are Words A Child Should Never Have To Say<',\n",
        " u'rel=\"analytic_event\"><',\n",
        " u'rel=\"analytic_event\">Laura Willard<',\n",
        " u'rel=\"analytic_event\"><',\n",
        " u'rel=\"analytic_event\">When A Simple Idea Like This Actually Works And It Helps People Get By, Everybody Wins<',\n",
        " u'rel=\"analytic_event\"><',\n",
        " u'rel=\"analytic_event\">Brandon Weber<',\n",
        " u'rel=\"analytic_event\">5 Reasons Why My Girlfriend Thinks She&#x27;s Not Beautiful Enough, No Matter What Anyone Tells Her<',\n",
        " u'rel=\"analytic_event\">The Perfect Reply A Girl Can Give To The Question &#x27;What&#x27;s Your Favorite Position?&#x27;<',\n",
        " u'rel=\"analytic_event\">When A Simple Idea Like This Actually Works And It Helps People Get By, Everybody Wins<',\n",
        " u'rel=\"analytic_event\">One Of The Biggest Lies We\\u2019re Encouraged To Tell Ourselves About Our Value To Society Is Right Here<',\n",
        " u'rel=\"analytic_event\">He Was About To Take His Own Life \\u2014 Until A Man Stopped Him. Here He Meets Him Face To Face Again.<',\n",
        " u'rel=\"analytic_event\">When I Was A Kid, An Ad Aired On TV That I Didn&#x27;t Fully Get. Now, I Want Us All To Watch It Again.<',\n",
        " u'rel=\"analytic_event\">These Parents Think It Might Be A Phase, But They Just Don&#x27;t Understand What It Means<',\n",
        " u'rel=\"analytic_event\">How China Deals With Internet-Addicted Teens Is Kind Of Shocking. And Maybe A Good Idea?<',\n",
        " u'rel=\"analytic_event\">If You Want A Successful Long-Term Relationship (Of Any Kind), Here Are 3 Invaluable Things To Know<']"
       ]
      }
     ],
     "prompt_number": 60
    },
    {
     "cell_type": "markdown",
     "metadata": {
      "slideshow": {
       "slide_type": "slide"
      }
     },
     "source": [
      "`HEADLINE` becomes `(.*?)`\n",
      "\n",
      "`.`  match any character  \n",
      "`*`  and keep going  \n",
      "`?`  until you find the first ...\n",
      "\n",
      "and\n",
      "\n",
      "only return things inbetween the `()`"
     ]
    },
    {
     "cell_type": "code",
     "collapsed": false,
     "input": [
      "re.findall('rel=\"analytic_event\">(.*?)<', page_html)   "
     ],
     "language": "python",
     "metadata": {
      "slideshow": {
       "slide_type": "fragment"
      }
     },
     "outputs": [
      {
       "metadata": {},
       "output_type": "pyout",
       "prompt_number": 61,
       "text": [
        "[u'',\n",
        " u'30,000 People Die Each Year Getting Something They Don&#x27;t Need. It&#x27;s Time We Address The Problem.',\n",
        " u'',\n",
        " u'Laura Willard',\n",
        " u'',\n",
        " u'&#x27;I Just Wanted To Die&#x27; And &#x27;Maybe I Deserved This&#x27; Are Words A Child Should Never Have To Say',\n",
        " u'',\n",
        " u'Laura Willard',\n",
        " u'',\n",
        " u'When A Simple Idea Like This Actually Works And It Helps People Get By, Everybody Wins',\n",
        " u'',\n",
        " u'Brandon Weber',\n",
        " u'5 Reasons Why My Girlfriend Thinks She&#x27;s Not Beautiful Enough, No Matter What Anyone Tells Her',\n",
        " u'The Perfect Reply A Girl Can Give To The Question &#x27;What&#x27;s Your Favorite Position?&#x27;',\n",
        " u'When A Simple Idea Like This Actually Works And It Helps People Get By, Everybody Wins',\n",
        " u'One Of The Biggest Lies We\\u2019re Encouraged To Tell Ourselves About Our Value To Society Is Right Here',\n",
        " u'He Was About To Take His Own Life \\u2014 Until A Man Stopped Him. Here He Meets Him Face To Face Again.',\n",
        " u'When I Was A Kid, An Ad Aired On TV That I Didn&#x27;t Fully Get. Now, I Want Us All To Watch It Again.',\n",
        " u'These Parents Think It Might Be A Phase, But They Just Don&#x27;t Understand What It Means',\n",
        " u'How China Deals With Internet-Addicted Teens Is Kind Of Shocking. And Maybe A Good Idea?',\n",
        " u'If You Want A Successful Long-Term Relationship (Of Any Kind), Here Are 3 Invaluable Things To Know']"
       ]
      }
     ],
     "prompt_number": 61
    },
    {
     "cell_type": "markdown",
     "metadata": {
      "slideshow": {
       "slide_type": "slide"
      }
     },
     "source": [
      "You might want to include `.*?` or `()` or `\\^$.|+[{' as part of your search term.\n"
     ]
    },
    {
     "cell_type": "markdown",
     "metadata": {
      "slideshow": {
       "slide_type": "fragment"
      }
     },
     "source": [
      "You can, with `\\`"
     ]
    },
    {
     "cell_type": "code",
     "collapsed": false,
     "input": [
      "re.findall('rel=\"analytic_event\">.*?<\\/a>', page_html)   "
     ],
     "language": "python",
     "metadata": {
      "slideshow": {
       "slide_type": "fragment"
      }
     },
     "outputs": [
      {
       "metadata": {},
       "output_type": "pyout",
       "prompt_number": 62,
       "text": [
        "[u'rel=\"analytic_event\"><img alt=\"Web_287_escape-fire-health-care-system-reform-1\" height=\"287\" src=\"//upw-prod-images.global.ssl.fastly.net/nugget/52ea03d144fd73bd1e000041/web_287_escape-fire-health-care-system-reform-1-65c0c90732f43374227fa17ccfe645f1.jpg\" width=\"287\" /></a>',\n",
        " u'rel=\"analytic_event\">30,000 People Die Each Year Getting Something They Don&#x27;t Need. It&#x27;s Time We Address The Problem.</a>',\n",
        " u'rel=\"analytic_event\"><img alt=\"Web_66_laura-willard-upworthy-headshot\" height=\"66\" src=\"//upw-prod-images.global.ssl.fastly.net/account/5192a3c6e36cf87029001c3a/web_66_laura-willard-upworthy-headshot.jpg\" width=\"66\" /></a>',\n",
        " u'rel=\"analytic_event\">Laura Willard</a>',\n",
        " u'rel=\"analytic_event\"><img alt=\"Web_287_child-trafficking-victim\" height=\"287\" src=\"//upw-prod-images.global.ssl.fastly.net/nugget/52ebccb6536d986f6800001f/web_287_child-trafficking-victim-196b3b29bcd96a28679f168471f87cf5.jpg\" width=\"287\" /></a>',\n",
        " u'rel=\"analytic_event\">&#x27;I Just Wanted To Die&#x27; And &#x27;Maybe I Deserved This&#x27; Are Words A Child Should Never Have To Say</a>',\n",
        " u'rel=\"analytic_event\"><img alt=\"Web_66_laura-willard-upworthy-headshot\" height=\"66\" src=\"//upw-prod-images.global.ssl.fastly.net/account/5192a3c6e36cf87029001c3a/web_66_laura-willard-upworthy-headshot.jpg\" width=\"66\" /></a>',\n",
        " u'rel=\"analytic_event\">Laura Willard</a>',\n",
        " u'rel=\"analytic_event\"><img alt=\"Web_287_thumb-3\" height=\"287\" src=\"//upw-prod-images.global.ssl.fastly.net/nugget/52eff0593beb59ff87000001/web_287_thumb-3-59e8ff0cbf80b826f568e150d765d9e0.png\" width=\"287\" /></a>',\n",
        " u'rel=\"analytic_event\">When A Simple Idea Like This Actually Works And It Helps People Get By, Everybody Wins</a>',\n",
        " u'rel=\"analytic_event\"><img alt=\"Web_66_brandon-weber\" height=\"66\" src=\"//upw-prod-images.global.ssl.fastly.net/account/5192a6b3f62409001800e5ed/web_66_brandon-weber.jpg\" width=\"66\" /></a>',\n",
        " u'rel=\"analytic_event\">Brandon Weber</a>',\n",
        " u'rel=\"analytic_event\">5 Reasons Why My Girlfriend Thinks She&#x27;s Not Beautiful Enough, No Matter What Anyone Tells Her</a>',\n",
        " u'rel=\"analytic_event\">The Perfect Reply A Girl Can Give To The Question &#x27;What&#x27;s Your Favorite Position?&#x27;</a>',\n",
        " u'rel=\"analytic_event\">When A Simple Idea Like This Actually Works And It Helps People Get By, Everybody Wins</a>',\n",
        " u'rel=\"analytic_event\">One Of The Biggest Lies We\\u2019re Encouraged To Tell Ourselves About Our Value To Society Is Right Here</a>',\n",
        " u'rel=\"analytic_event\">He Was About To Take His Own Life \\u2014 Until A Man Stopped Him. Here He Meets Him Face To Face Again.</a>',\n",
        " u'rel=\"analytic_event\">When I Was A Kid, An Ad Aired On TV That I Didn&#x27;t Fully Get. Now, I Want Us All To Watch It Again.</a>',\n",
        " u'rel=\"analytic_event\">These Parents Think It Might Be A Phase, But They Just Don&#x27;t Understand What It Means</a>',\n",
        " u'rel=\"analytic_event\">How China Deals With Internet-Addicted Teens Is Kind Of Shocking. And Maybe A Good Idea?</a>',\n",
        " u'rel=\"analytic_event\">If You Want A Successful Long-Term Relationship (Of Any Kind), Here Are 3 Invaluable Things To Know</a>']"
       ]
      }
     ],
     "prompt_number": 62
    },
    {
     "cell_type": "code",
     "collapsed": false,
     "input": [
      "re.findall('rel=\"analytic_event\">(.*?)<', page_html)"
     ],
     "language": "python",
     "metadata": {
      "slideshow": {
       "slide_type": "slide"
      }
     },
     "outputs": [
      {
       "metadata": {},
       "output_type": "pyout",
       "prompt_number": 63,
       "text": [
        "[u'',\n",
        " u'30,000 People Die Each Year Getting Something They Don&#x27;t Need. It&#x27;s Time We Address The Problem.',\n",
        " u'',\n",
        " u'Laura Willard',\n",
        " u'',\n",
        " u'&#x27;I Just Wanted To Die&#x27; And &#x27;Maybe I Deserved This&#x27; Are Words A Child Should Never Have To Say',\n",
        " u'',\n",
        " u'Laura Willard',\n",
        " u'',\n",
        " u'When A Simple Idea Like This Actually Works And It Helps People Get By, Everybody Wins',\n",
        " u'',\n",
        " u'Brandon Weber',\n",
        " u'5 Reasons Why My Girlfriend Thinks She&#x27;s Not Beautiful Enough, No Matter What Anyone Tells Her',\n",
        " u'The Perfect Reply A Girl Can Give To The Question &#x27;What&#x27;s Your Favorite Position?&#x27;',\n",
        " u'When A Simple Idea Like This Actually Works And It Helps People Get By, Everybody Wins',\n",
        " u'One Of The Biggest Lies We\\u2019re Encouraged To Tell Ourselves About Our Value To Society Is Right Here',\n",
        " u'He Was About To Take His Own Life \\u2014 Until A Man Stopped Him. Here He Meets Him Face To Face Again.',\n",
        " u'When I Was A Kid, An Ad Aired On TV That I Didn&#x27;t Fully Get. Now, I Want Us All To Watch It Again.',\n",
        " u'These Parents Think It Might Be A Phase, But They Just Don&#x27;t Understand What It Means',\n",
        " u'How China Deals With Internet-Addicted Teens Is Kind Of Shocking. And Maybe A Good Idea?',\n",
        " u'If You Want A Successful Long-Term Relationship (Of Any Kind), Here Are 3 Invaluable Things To Know']"
       ]
      }
     ],
     "prompt_number": 63
    },
    {
     "cell_type": "markdown",
     "metadata": {
      "slideshow": {
       "slide_type": "slide"
      }
     },
     "source": [
      "We could work for awhile to figure out a better pattern, but..."
     ]
    },
    {
     "cell_type": "code",
     "collapsed": false,
     "input": [
      "re.findall('rel=\"analytic_event\">(.*?)<', page_html)[12:]"
     ],
     "language": "python",
     "metadata": {
      "slideshow": {
       "slide_type": "fragment"
      }
     },
     "outputs": [
      {
       "metadata": {},
       "output_type": "pyout",
       "prompt_number": 64,
       "text": [
        "[u'5 Reasons Why My Girlfriend Thinks She&#x27;s Not Beautiful Enough, No Matter What Anyone Tells Her',\n",
        " u'The Perfect Reply A Girl Can Give To The Question &#x27;What&#x27;s Your Favorite Position?&#x27;',\n",
        " u'When A Simple Idea Like This Actually Works And It Helps People Get By, Everybody Wins',\n",
        " u'One Of The Biggest Lies We\\u2019re Encouraged To Tell Ourselves About Our Value To Society Is Right Here',\n",
        " u'He Was About To Take His Own Life \\u2014 Until A Man Stopped Him. Here He Meets Him Face To Face Again.',\n",
        " u'When I Was A Kid, An Ad Aired On TV That I Didn&#x27;t Fully Get. Now, I Want Us All To Watch It Again.',\n",
        " u'These Parents Think It Might Be A Phase, But They Just Don&#x27;t Understand What It Means',\n",
        " u'How China Deals With Internet-Addicted Teens Is Kind Of Shocking. And Maybe A Good Idea?',\n",
        " u'If You Want A Successful Long-Term Relationship (Of Any Kind), Here Are 3 Invaluable Things To Know']"
       ]
      }
     ],
     "prompt_number": 64
    },
    {
     "cell_type": "markdown",
     "metadata": {
      "slideshow": {
       "slide_type": "slide"
      }
     },
     "source": [
      "Store the results somewhere, and try it on a different page."
     ]
    },
    {
     "cell_type": "code",
     "collapsed": false,
     "input": [
      "headlines = re.findall('\"analytic_event\">(.*?)<', page_html)[:12]"
     ],
     "language": "python",
     "metadata": {
      "slideshow": {
       "slide_type": "fragment"
      }
     },
     "outputs": [],
     "prompt_number": 65
    },
    {
     "cell_type": "code",
     "collapsed": false,
     "input": [
      "url = 'http://www.upworthy.com/page/3'"
     ],
     "language": "python",
     "metadata": {
      "slideshow": {
       "slide_type": "fragment"
      }
     },
     "outputs": [],
     "prompt_number": 66
    },
    {
     "cell_type": "code",
     "collapsed": false,
     "input": [
      "page = requests.get(url)\n",
      "page_html = page.text\n",
      "headlines = re.findall('\"analytic_event\">(.*?)<', page_html)[12:] \n",
      "\n",
      "print headlines"
     ],
     "language": "python",
     "metadata": {
      "slideshow": {
       "slide_type": "fragment"
      }
     },
     "outputs": [
      {
       "output_type": "stream",
       "stream": "stdout",
       "text": [
        "[u'How Do You Know If You Have Depression? Hear This Woman Explain How She Found Out.', u'If You Ever Wanted The Great Novels Explained To You By Your Thug Friend, Now&#x27;s Your Chance', u'Seems Like Any Other High School, Right? So What&#x27;s The Major Thing Missing From These Pictures?', u'Every Person On Earth Is Supposed To Have These. But What Are They Exactly?', u'Jon Stewart Delivers One Of The Best Interviews In Recent Memory', u'If You Give A Bride A Beautiful Set Of Bone China, You Set Her Table For A Day', u'A High School In A Poor Neighborhood Closed Down. These Folks Reopened It And Kicked Some Butt. How?', u'The Super Bowl Ad That You Should See If You Think Little Girls Can Become Epic Rocket Scientists', u'The NFL Would Never Let This Ad Air On The Super Bowl, So We&#x27;re Gonna Show You It. It&#x27;s Important.']\n"
       ]
      }
     ],
     "prompt_number": 67
    },
    {
     "cell_type": "markdown",
     "metadata": {
      "slideshow": {
       "slide_type": "slide"
      }
     },
     "source": [
      "Production time!!!"
     ]
    },
    {
     "cell_type": "code",
     "collapsed": false,
     "input": [
      "for page in range(2,10):\n",
      "    url = 'http://www.upworthy.com/page/' +  str(page)\n",
      "    print url\n"
     ],
     "language": "python",
     "metadata": {
      "slideshow": {
       "slide_type": "fragment"
      }
     },
     "outputs": [
      {
       "output_type": "stream",
       "stream": "stdout",
       "text": [
        "http://www.upworthy.com/page/2\n",
        "http://www.upworthy.com/page/3\n",
        "http://www.upworthy.com/page/4\n",
        "http://www.upworthy.com/page/5\n",
        "http://www.upworthy.com/page/6\n",
        "http://www.upworthy.com/page/7\n",
        "http://www.upworthy.com/page/8\n",
        "http://www.upworthy.com/page/9\n"
       ]
      }
     ],
     "prompt_number": 69
    },
    {
     "cell_type": "code",
     "collapsed": false,
     "input": [
      "from time import sleep"
     ],
     "language": "python",
     "metadata": {
      "slideshow": {
       "slide_type": "slide"
      }
     },
     "outputs": [],
     "prompt_number": 70
    },
    {
     "cell_type": "code",
     "collapsed": false,
     "input": [
      "#somewhere to store the headlines\n",
      "headlines = []\n",
      "\n",
      "#Loop through 78 pages.\n",
      "for page in range(2,80):\n",
      "    #construct the URL\n",
      "    url = 'http://www.upworthy.com/page/' +  str(page)\n",
      "    \n",
      "    #Open the page and grab the HTML\n",
      "    page = requests.get(url)\n",
      "    page_html = page.text\n",
      "    \n",
      "    #Extract the headlines\n",
      "    new_headlines = re.findall('\"analytic_event\">(.*?)<', page_html)\n",
      "    \n",
      "    #Add them to our headline list\n",
      "    headlines = headlines + new_headlines[12:]\n",
      "    \n",
      "    #Rest\n",
      "    sleep(1)\n",
      "\n",
      "    \n"
     ],
     "language": "python",
     "metadata": {
      "slideshow": {
       "slide_type": "fragment"
      }
     },
     "outputs": [],
     "prompt_number": 71
    },
    {
     "cell_type": "code",
     "collapsed": false,
     "input": [
      "len(headlines)"
     ],
     "language": "python",
     "metadata": {
      "slideshow": {
       "slide_type": "slide"
      }
     },
     "outputs": [
      {
       "metadata": {},
       "output_type": "pyout",
       "prompt_number": 72,
       "text": [
        "693"
       ]
      }
     ],
     "prompt_number": 72
    },
    {
     "cell_type": "code",
     "collapsed": false,
     "input": [
      "headlines[:10]"
     ],
     "language": "python",
     "metadata": {
      "slideshow": {
       "slide_type": "fragment"
      }
     },
     "outputs": [
      {
       "metadata": {},
       "output_type": "pyout",
       "prompt_number": 73,
       "text": [
        "[u'5 Reasons Why My Girlfriend Thinks She&#x27;s Not Beautiful Enough, No Matter What Anyone Tells Her',\n",
        " u'The Perfect Reply A Girl Can Give To The Question &#x27;What&#x27;s Your Favorite Position?&#x27;',\n",
        " u'When A Simple Idea Like This Actually Works And It Helps People Get By, Everybody Wins',\n",
        " u'One Of The Biggest Lies We\\u2019re Encouraged To Tell Ourselves About Our Value To Society Is Right Here',\n",
        " u'He Was About To Take His Own Life \\u2014 Until A Man Stopped Him. Here He Meets Him Face To Face Again.',\n",
        " u'When I Was A Kid, An Ad Aired On TV That I Didn&#x27;t Fully Get. Now, I Want Us All To Watch It Again.',\n",
        " u'These Parents Think It Might Be A Phase, But They Just Don&#x27;t Understand What It Means',\n",
        " u'How China Deals With Internet-Addicted Teens Is Kind Of Shocking. And Maybe A Good Idea?',\n",
        " u'If You Want A Successful Long-Term Relationship (Of Any Kind), Here Are 3 Invaluable Things To Know',\n",
        " u'How Do You Know If You Have Depression? Hear This Woman Explain How She Found Out.']"
       ]
      }
     ],
     "prompt_number": 73
    },
    {
     "cell_type": "code",
     "collapsed": false,
     "input": [
      "headlines[-10:]"
     ],
     "language": "python",
     "metadata": {
      "slideshow": {
       "slide_type": "slide"
      }
     },
     "outputs": [
      {
       "metadata": {},
       "output_type": "pyout",
       "prompt_number": 78,
       "text": [
        "[u'The Dude Is Pissed. And Unfortunately, We Can All Recognize The Reason Why.',\n",
        " u'One Mother Did Something Illegal To Help Her Kids, And This Cop Was Totally, Unexpectedly Cool',\n",
        " u'The Reality Of What Food Stamps Cost All Of Us In One Incredibly Simple Graphic',\n",
        " u'Dear Men: You&#x27;ll Feel Awkward For The First Couple Of Weeks, But It&#x27;s All Worth It, I Swear',\n",
        " u'She Worked In A Factory In Bangladesh To Make This Story. Her Supervisor Was 9 Years Old.',\n",
        " u'Congresswoman Is Confronted By Reality And Proceeds To Pretend It Doesn&#x27;t Exist',\n",
        " u'When You Ban Women From Driving, They&#x27;ll Not Only Defy You \\u2014 But Record Songs Like This Too',\n",
        " u'He&#x27;s Speaking. She&#x27;s Playing. And I&#x27;m Just Over Here Trying To Pick My Jaw Up Off The Floor.',\n",
        " u'I Don&#x27;t Quite Know What These People Are Doing On The Job, But I&#x27;d Work 1 Week And Retire',\n",
        " u'The Hilarious Beer Commercial No Brewery Wants You To See']"
       ]
      }
     ],
     "prompt_number": 78
    },
    {
     "cell_type": "markdown",
     "metadata": {
      "slideshow": {
       "slide_type": "slide"
      }
     },
     "source": [
      "Time to get it out of here."
     ]
    },
    {
     "cell_type": "code",
     "collapsed": false,
     "input": [
      "with open('upworthy_titles.txt', 'w') as outfile:\n",
      "    \n",
      "    #Loop through each of our headlines\n",
      "    for title in headlines:\n",
      "        \n",
      "        #Some headlines have umlauts\n",
      "        title = title.encode('utf-8')\n",
      "        \n",
      "        #HTML entities are the worst.\n",
      "        title = title.replace('&#x27;',\"'\")\n",
      "        \n",
      "        #'\\n' says End of line\n",
      "        outfile.write(title + '\\n')\n"
     ],
     "language": "python",
     "metadata": {
      "slideshow": {
       "slide_type": "fragment"
      }
     },
     "outputs": [],
     "prompt_number": 74
    },
    {
     "cell_type": "markdown",
     "metadata": {
      "slideshow": {
       "slide_type": "slide"
      }
     },
     "source": [
      "Take a look at the results"
     ]
    },
    {
     "cell_type": "code",
     "collapsed": false,
     "input": [
      "!cat upworthy_titles.txt"
     ],
     "language": "python",
     "metadata": {
      "slideshow": {
       "slide_type": "fragment"
      }
     },
     "outputs": [
      {
       "output_type": "stream",
       "stream": "stdout",
       "text": [
        "5 Reasons Why My Girlfriend Thinks She's Not Beautiful Enough, No Matter What Anyone Tells Her\r\n",
        "The Perfect Reply A Girl Can Give To The Question 'What's Your Favorite Position?'\r\n",
        "When A Simple Idea Like This Actually Works And It Helps People Get By, Everybody Wins\r\n",
        "One Of The Biggest Lies We\u2019re Encouraged To Tell Ourselves About Our Value To Society Is Right Here\r\n",
        "He Was About To Take His Own Life \u2014 Until A Man Stopped Him. Here He Meets Him Face To Face Again.\r\n",
        "When I Was A Kid, An Ad Aired On TV That I Didn't Fully Get. Now, I Want Us All To Watch It Again.\r\n",
        "These Parents Think It Might Be A Phase, But They Just Don't Understand What It Means\r\n",
        "How China Deals With Internet-Addicted Teens Is Kind Of Shocking. And Maybe A Good Idea?\r\n",
        "If You Want A Successful Long-Term Relationship (Of Any Kind), Here Are 3 Invaluable Things To Know\r\n",
        "How Do You Know If You Have Depression? Hear This Woman Explain How She Found Out.\r\n",
        "If You Ever Wanted The Great Novels Explained To You By Your Thug Friend, Now's Your Chance\r\n",
        "Seems Like Any Other High School, Right? So What's The Major Thing Missing From These Pictures?\r\n",
        "Every Person On Earth Is Supposed To Have These. But What Are They Exactly?\r\n",
        "Jon Stewart Delivers One Of The Best Interviews In Recent Memory\r\n",
        "If You Give A Bride A Beautiful Set Of Bone China, You Set Her Table For A Day\r\n",
        "A High School In A Poor Neighborhood Closed Down. These Folks Reopened It And Kicked Some Butt. How?\r\n",
        "The Super Bowl Ad That You Should See If You Think Little Girls Can Become Epic Rocket Scientists\r\n",
        "The NFL Would Never Let This Ad Air On The Super Bowl, So We're Gonna Show You It. It's Important.\r\n",
        "The Simple Way A Developing Country Managed To Decrease The Number Of Babies Who Died By Almost 30%\r\n",
        "When There\u2019s Nothing Scarier Than A Room Full Of White Men Laughing\r\n",
        "How Bette Midler\u2019s Pet Peeve Made New York City A Better Place To Live\r\n",
        "When \u2018They\u2019 Say Cutting Taxes On The Rich Means Job Creation, They\u2019re Lying. Just Ask This Rich Guy.\r\n",
        "I Wonder If Anyone That Rich Thinks, 'Yeah, I Need All This Money. All. Of. It.'\r\n",
        "'I Just Wanted To Die' And 'Maybe I Deserved This' Are Words A Child Should Never Have To Say\r\n",
        "Something Absolutely Terrible Just Happened To The Internet. Here's Why.\r\n",
        "The Massive Corporate Power Grab You're Not Supposed To Know About\r\n",
        "Why Is Relatively Normal Child-Like Behavior Being Treated As An Illness? Gue$$.\r\n",
        "An App That Talks Back, But Not In That Mildly Entertaining Way Siri Does\r\n",
        "This Is A Film I Want To See. Because Stigmas Are Deadly And Stories Need to Be Told.\r\n",
        "11 Things To Keep In Mind Before Dating A Black Woman. The Last One Is Definitely No Joke.\r\n",
        "With Songs That Matter Like This, I Know Why This Country Singer Has A Grammy\r\n",
        "The Truth About The Warm Weather We've Actually Been Feeling This Winter\r\n",
        "Here Are Some Secrets About An Industry That Nobody Wants To Talk About\r\n",
        "Huge Company Looks At Big Fine And Just Laughs And Laughs And Laughs\r\n",
        "Reporter Asks The Wrong Question, Politician Threatens To Throw Reporter Off A Balcony. Yes, Really.\r\n",
        "WARNING: This Type Of Dancing Can Lead To Severe Empowerment And A Strong Connection With Others\r\n",
        "That One Time A Company Ignored The Racist Haters And Proceeded With Another 'Shocking' Commercial\r\n",
        "How Some Tweets Sparked A Movement That Launched An App That Might Just End Sexism In Advertising\r\n",
        "It's Time To Stop Saying 'Like A Boss.' Swedes Are Way Cooler.\r\n",
        "Your Daughter May Be Rebellious, But At Least She's Not Leaving Dead Villagers All Over The House\r\n",
        "30,000 People Die Each Year Getting Something They Don't Need. It's Time We Address The Problem.\r\n",
        "At First You'll Be Confused By The Story In The Beginning, But Then It Hits You Like A Ton Of Bricks\r\n",
        "Come For The Adorable Orangutans. Stay Because There Is Something You Should Know About Them.\r\n",
        "A Company Does Something Really Puzzling On A Beach, And I Think They Made Their Point\r\n",
        "America Has A Dirty Little Secret, And This Congressman Just Exposed It\r\n",
        "A Before And After That Has Me In Disbelief: This Is Drinking Water?\r\n",
        "A Hunger Crisis In America Is Happening, And It\u2019s Time We Spoke Up About It\r\n",
        "1/3 Of Women With Speaking Roles In Movies Are More Likely To Be \u2026 Naked?\r\n",
        "A Celebrity Gossip Idea So Brilliant I Wish It Wasn't A Parody\r\n",
        "Hear How Lupita Nyong'o Only Considered Herself Black When She Came To America\r\n",
        "We Don\u2019t Usually Make Fun Of Terrorism, But When We Do, We Make A Damn Good Point About Freedom\r\n",
        "1 Minute Of Some Numbers About Income That Feel Colder Than Any Polar Vortex\r\n",
        "A Mom Begged The Judge To Let The Sentence Fit The Crime. He Ignored Her And Gave Her Son Life.\r\n",
        "A Whole New Way To Think About Stress That Changes Everything We've Been Taught\r\n",
        "Disney Introduces A Gay Couple On A Kids' Show, Confusing Children Everywhere. Wait, No...\r\n",
        "When It Comes Right Down To It \u2026 After We\u2019re Gone, It\u2019s Just Words, Memories, And Photographs\r\n",
        "Not A Single Woman Has Been Invited To Join The Syrian Peace Talks. Here They Are Instead.\r\n",
        "The Sharp Response 'SNL' Gave Victoria's Secret After They Banned A Mom From Breastfeeding In Store\r\n",
        "Do You Spot What's Not Quite Right With These Fashion Posters?\r\n",
        "If I Had A Hammer, I'd Nail This Pete Seeger Interview To My Wall\r\n",
        "A Nurse Uses His Special Gift To Help Patients Cope With Pain\r\n",
        "When Girls Are Constantly Shamed For Their Looks, Is It Any Wonder There's Only 1 Photog They Trust?\r\n",
        "A Little Girl Who Isn't Allowed To Play Outside, And The Startling Reason Why\r\n",
        "Here\u2019s Pete Seeger Doing One Of The Songs He Loved So Much\r\n",
        "A Single Dad Gets Creative To Deal With The Lonely Moments After A Weekend With His Kids\r\n",
        "1 Out Of 3 Women Live On The Edge Of Something Terrifying\r\n",
        "A Scientist Laughs In The Face Of Sexism, Totally Rocks Biology Career\r\n",
        "Nancy Grace Loses A Debate. Against Herself.\r\n",
        "They Said She Was Paralyzed, And She Couldn't Afford Her Recovery. Then A Dancer Changed It All.\r\n",
        "I Sing Along To This All The Time. But When She Does, It Makes Me Really, Really Uncomfortable.\r\n",
        "People Have Been Driving Around Like Idiots For A Long, Long Time\r\n",
        "To Prove Humans Could Be Happier With Simpler Lives, She Came Up With An Elaborate Experiment\r\n",
        "The 3 Ridiculous Reasons Why Drugs Were Prohibited In The First Place\r\n",
        "What You Can Expect From Africa Isn't What Many Of Us Have Been Taught To Expect From Africa\r\n",
        "These Badass Kid Skaters In Ethiopia Are Awesome\r\n",
        "Forget Vampires And Zombies, Here's A Real-Life Monster Way More Worthy Of Our Attention\r\n",
        "The U.S. Dept. Of State Asked Maya Angelou To Speak About Him. What She Said Is Unforgettable.\r\n",
        "Watch A Clever Senator Smack Down Deniers With His Extraordinary Commentary\r\n",
        "A 13-Year-Old Explains The Religion Behind Marriage Equality. My Head Now Hurts From Nodding Along.\r\n",
        "Watch 33 Gay And Straight Couples Get Married On The Grammys Without Hurting Anyone Else's Marriage\r\n",
        "Wanna See Something Brilliant? Take A Few Days Off, Then Look In The Mirror.\r\n",
        "Watch The Spread of Walmart Across The Country In One Horrifying GIF\r\n",
        "A Comic That Might Cause You To Realize Other Countries Contain Actual People\r\n",
        "In What World Is It OK To Open A Bank Account In A Stranger\u2019s Name? Oh Yeah, This One.\r\n",
        "Lady Friends, Here's A Simple Question You Shouldn't Have To Ask Your Doctor\r\n",
        "A World Gone Mad (For Cows)!? Bad Beef Bacteria And Cow Poo Climate Change.\r\n",
        "Here's Your Chance: Meet The Women Who Make Clothes Like Yours Day In And Day Out\r\n",
        "He's Trying To Make Buses Sexy, And It's Working\r\n",
        "Lady Stereotypes, Right After Your Commercial Break Full Of Female Stereotypes\r\n",
        "An Eye-Opener Of A History Lesson On What Republican Presidents Thought About Gun Control\r\n",
        "Forget Obamacare \u2014 What\u2019s Really Wrong With Our Medical System Is Right Here\r\n",
        "I Was In A Lot Of Clubs In High School. I'm Pretty Sure None Of Them Were As Cool As This!\r\n",
        "D\u2019ya Ever Think These Guys Are Just Doing It For The Attention?\r\n",
        "The Governor Is Proud Of His Budget. This Student Wants To Teach Him A Lesson.\r\n",
        "She Has Experienced So Much Hate Because Of Who She Married. You'd Think He Was A Monster.\r\n",
        "A Straight Reporter Says, 'I'd Be Offended By You If I Were Gay.' This Actor's Response? Epic.\r\n",
        "If You Needed A Better Reason To Start Cooking More Meals At Home, Here's One For You\r\n",
        "You Don't Care About Your Privacy, And Kim Kardashian Proves It\r\n",
        "This Guy Needs A Clue: A Member Of The 1% Declares It 'Great' That 3.5 Billion Are In Poverty.\r\n",
        "'Don't Ask, Don't Tell' Ended In 2010, But It's An ID Card That Makes It Real For These Families\r\n",
        "Here's The Moment A Black Woman Protected A White Man At A KKK Rally\r\n",
        "Here's A Fact About Sharks And Humans That'll Stay With You Every Hour On The Hour Today\r\n",
        "163 Years Ago, A Former Slave Rocked The World With These Words\r\n",
        "This Filmmaker Is Showing Hollywood What A Real Leading Lady Looks Like. Glad We + You Could Help.\r\n",
        "An Avenger Talks About The Hell His Mom Went Through Back When Women Had No Choices\r\n",
        "Sexual Objectification: What It Is, Why It's Damaging, And How We Change It\r\n",
        "All The Science Reasons Redheads Do That Redhead Thing They Redhead Do So Well\r\n",
        "A Video I Loved Within 10 Seconds From A Random Dude Explaining The Magic Of Birth Control\r\n",
        "Raised By Black Panthers. Made History With Music. Died At 25. But Hear Him In His Own Words.\r\n",
        "There Are People In Our Lives Who Are So Good At What They Do, You Never See Them. Here\u2019s One Story.\r\n",
        "WATCH: This Is One Time-Lapse Big Oil Doesn't Want You To See\r\n",
        "A News Team Follows Potential Models For One Week. My Face Is Now Stuck In Disgust Mode.\r\n",
        "A 13-Year-Old Gets Plastic Surgery To Fix What's Wrong With Her. Society Is What's Wrong With Her.\r\n",
        "The Authorities In Egypt Want To Ban This Documentary. See Why.\r\n",
        "His Death Wasn't Just A Tragedy, It Was A Product Of A Criminal Justice System\r\n",
        "They're Shamelessly Photoshopping Folks And Putting Them On Facebook\r\n",
        "Maybe That Whole 'Survival Of The Fittest' Stuff Isn't Something To Be Proud Of\r\n",
        "An Actor Who Got Super Famous Overnight Has Some Profound Thoughts On Celebrity Worship\r\n",
        "Oh Snap! Cate Blanchett Asks E! Why They Filmed Her Like That But Not The Men.\r\n",
        "The Numbers Behind Why America Has So Many People In Prison\r\n",
        "Remember When Music Videos Used To Mean Something? Some Still Do.\r\n",
        "Russell Brand Speaks Candidly About America's Habit Of Creating Terrorists\r\n",
        "What It Looks Like When The Concept Of Who The \u2018Moochers\u2019 Really Are Is Turned Upside Down\r\n",
        "Here Are Just 3 Of The *Smaller* Lies SeaWorld Makes Its Employees Tell Its Guests\r\n",
        "She Wants To Look Like Her Mom. What That Means Might Make You Wince.\r\n",
        "At First I Thought, 'Haha, Safe Sex Dance.' Then I Thought, 'Wow, That's Genius.'\r\n",
        "So Full Of #Win \u2014 A Brilliant Young Lady Talks To Stephen Colbert About #FastFoodStrikes\r\n",
        "Here, Copy This Lady's Idea And Make Your Own Community A Little More Wonderful\r\n",
        "We Can't All Be Extroverts. Just Ask This Once Painfully Shy, Famous, Talented Introvert.\r\n",
        "I Hope I\u2019d Be As Brave As This Family When Faced With The Kind Of Hate That Can Drive You Crazy\r\n",
        "There Are Some Towns That Are So Close To Disappearing From Our Landscape. Here\u2019s One.\r\n",
        "About. Damn. Time. A Sports Network Takes On What No One Wants To Talk About In Locker Rooms.\r\n",
        "The Struggles Of Being A Woman In A Male-Dominated Field Summed Up In A Short Comic\r\n",
        "Watch A Hilarious Skit Illustrating The Stereotypes We Assign Each Other In The Dating World\r\n",
        "A Hilarious Stand-Up Routine About How Commercials For Black People Actually Sound\r\n",
        "Ever Considered What Guys Look For In Girls? Forget It. Think About What A 17-Year-Old Says Instead.\r\n",
        "Could You Hurt Someone With Your Blood Running Through Them?\r\n",
        "To The Men Who Mistreated These Women (And Their Mothers): You. Just. Got. Burned.\r\n",
        "First They Gave Free Books. Then Free Music And Movies. Now Free Internet. Are They Nuts?\r\n",
        "A Few Important Things To Remember The Next Time A Cop Pulls You Over\r\n",
        "Want To Catch A Glimpse Of A 'Lazy Food Stamp Recipient'? Watch This.\r\n",
        "WATCH: An Alternate-Universe Audition Gets A Little TOO Real For This White Guy\r\n",
        "Here Is A Surprising War On Women That Won\u2019t Go Away\r\n",
        "50 Years Ago, One President Put Something Into Motion That Actually Worked\r\n",
        "They Don't Trust The Media. So These Unconventional Reporters Are Telling Their Story.\r\n",
        "WATCH: The Food You're Probably Not Eating For All The Wrong Reasons\r\n",
        "He's One Of The Best Video-Game Race Car Drivers (Yup, That's A Thing). Watch Him Drive Drunk.\r\n",
        "AHHH! Jon Stewart Reports On A Story I Thought Was Reserved For Horror Movie Plots.\r\n",
        "So You Can Show The Strangest Thing I've Ever Seen Inside A Woman's Body On TV, But Not A Breast?\r\n",
        "See These Rare Photos Of Remote Tribes Before They Disappear\r\n",
        "A Store Clerk Pranks Customers, And I Can't Help But Love Him For It\r\n",
        "I Don't Usually Like Parody Songs, But This One On The Traffic Scandal Hits All The Right Notes\r\n",
        "She's Here With A Warning, And I'm Seriously Scared Of What Might Happen If We Don't Listen\r\n",
        "A Short Film That Shows You How Your Brain Breaks When You Do Something You're Not Supposed To Do\r\n",
        "Watch A Celebrity Do 4 Really Stupid Things In Less Than A Minute To Prove A Really Smart Point\r\n",
        "Here\u2019s Some Prison Food That Actually Isn\u2019t Also Being Used To Punish Inmates\r\n",
        "What If We Had A Case Study On Raising Pay For Teachers? Oh, Wait, We Do!\r\n",
        "You've Never Heard A Cover Of John Lennon's 'Imagine' Like This One\r\n",
        "Some People Talk About Shedding Unwanted Weight In 2014, But Here's What's Infinitely More Important\r\n",
        "The Embarrassingly Easy Thing We Could All Do To Make The World A Better Place, Like, Tomorrow\r\n",
        "Two Famous Nice Guys Discuss One Of America's Not-So-Nice Problems\r\n",
        "Here's A 5-Minute Video That'll Make You Rethink Our Entire News Media Circus\r\n",
        "Everything You've Always Wanted To Know About Cancer But Your Doctor Was Too Busy To Tell You\r\n",
        "Hear The Powerful Way The 'World's Ugliest Woman' Beat Her Bullies\r\n",
        "This Is Quite Possibly The Greatest Way To Learn CPR\r\n",
        "Friends Don't Let Friends Drive Drunk. But They Do Let Them Think They've Been In A 10-Year Coma.\r\n",
        "Why\u00a0Jan. 13, 2014, Went Down As One Of The Biggest Days In Global Health Since You've Been Alive\r\n",
        "Overnight, A Man Lost His Ability To Move And Speak. So He Resumed His Life As A Robot. Sort Of.\r\n",
        "If Your Paycheck Could Talk, It Would Tell You\u2026\r\n",
        "Yeah, You Can Invest In The Stock Market Like A Nerd, But The Cool Kids Are Investing In Hope\r\n",
        "They Grew Their Own Food For 17 Years. Now They Can't 'Cause The City Thinks Veggie Plants Are Ugly.\r\n",
        "This Simulation Of The Known Universe Does Not Disappoint\r\n",
        "3 Simple Lessons Brought To You By A First-Class Passenger On The Plane That Landed In The Hudson\r\n",
        "It Doesn\u2019t Take A Nurse To Know Kids\u2019 Hair Shouldn\u2019t Fall Out. But It Took This Nurse To Stop It.\r\n",
        "Gender Equality? Beyonce Calls Bullsh*t.\r\n",
        "John Cleese Describes Why Nothing Is 'Too Serious' To Be Joked About\r\n",
        "You May Be Startled By Where She Ends Up At The End Of The Video\r\n",
        "Your Favorite Childhood Pastime Has Been Upgraded For Maximum Awesomeness\r\n",
        "It's Truly Shocking That These Words Were Coming Out Of Your Television Last Year\r\n",
        "READ: A Fancy Science Guy Put Some Of The Most Important, Complex Facts Of Our Time Into Haikus\r\n",
        "Remember When The Banks Caused A Global Economic Meltdown? Here's A Way They Could Make Up For It.\r\n",
        "To The Bullied 7th-Grade Girl Whose Life Is Hell, Here's A Special Message To You From A Wise Nerd\r\n",
        "What We Think About This Issue And What Is True Are 2 Different Things\r\n",
        "Should We Be Concerned That A Lotta People Don\u2019t Instantly Know The Answer To This Question?\r\n",
        "10 Simple Minutes A Day Could Change Your Perspective On All The Things\r\n",
        "A Pledge Of Allegiance Like You Have Never Seen Before\r\n",
        "If Someone Did This To Your Food, You Would Probably Try To Get Them Fired Too\r\n",
        "These People Need Help. Whatever Your Political Affiliation, I Think You'll Agree We Owe It To Them.\r\n",
        "Being A Sex Object Is Empowering. Oh, Wait, No It\u2019s Not. Here\u2019s Why.\r\n",
        "Listen As This Nerd Shuts Down The Global Warming 'Debate' In Less Than 4 Minutes\r\n",
        "Right Before Dying From A Rare Lifelong Disease, Sam Revealed His Three Secrets To Happiness\r\n",
        "I Wish 1 in 3 Women Didn\u2019t Have A Personal Experience With The Topic Of This Poem\r\n",
        "What An Actor Said To Ellen Is Something I Wish More Men Would Talk About\r\n",
        "A Doctor Has Spent Decades Dressing Up Like A Homeless Man. The Reason Is Fantastic.\r\n",
        "Store Owners Who Don't Allow Guide Dogs Could Be In For Some Serious Trouble\r\n",
        "A 20-Something Guy Goes On And On About Sex For 6 Minutes. Nails It.\r\n",
        "Like We Need Another Expensive American Girl Doll. On Second Thought, We Do...\r\n",
        "Here's A Young Woman Whose Voice Is So Special Over 128,000 People Like It\r\n",
        "Why Brainstorming Is A No-Good, Very Bad Thing That We Should All Stop Doing Immediately\r\n",
        "His Bullies Used Sticks And Stones, So He Turned The Experience Into Beautiful Words To Teach Them\r\n",
        "They're Harassed And Criminalized. But Could They Be The Solution To A Big Sex Industry Problem?\r\n",
        "A Truly Absurd PSA With Zombies Makes No Sense Until You See The End. Then It's Awesome.\r\n",
        "His Military Dad Was Disappointed In Him When He Came Out ... For A Really Good Reason\r\n",
        "A Science Teacher Ate McDonald's For 3 Months And Lost Weight. Here's What That Proved.\r\n",
        "A Woman Pointed Out Sexism And The Internet Exploded. But When A Dude Says It...\r\n",
        "73% Of Americans Want This To Happen But Think They Don't\r\n",
        "Pretty Much The Next Jimi Hendrix \u2014 Is That Too Subtle For How Talented I Think This Kid Is?\r\n",
        "Nearly 1/3 Of All Campaign Dollars in 2013 Came From A Tiny Group Of People. Care To Guess Who?\r\n",
        "Her Husband's Abuse Once Kept Her Behind Closed Doors. Now She's Speaking Out, Loud And Clear.\r\n",
        "She Lied To Herself Every Night For A Year. Here's What Happened When She Was Honest.\r\n",
        "Russell Brand\u2019s Brilliant Quote About Inequality In One Easily Shareable Image\r\n",
        "Bill Nye On Why Your Horoscope Actually Belongs To Someone Else\r\n",
        "A(nother) Legitimate Reason To Detest Modern Pop Songs\r\n",
        "Do You Think These People Were Created Equal After Seeing These Photos?\r\n",
        "Her Husband Won A Nobel Prize. But She Just Became A WAY Bigger Deal.\r\n",
        "This Is Cesar Chavez. If You Haven\u2019t Heard Of Him, Perhaps It\u2019s Time You Did.\r\n",
        "The Most Delightful Two And A Half Minutes You'll Have Today Will Happen Right ... Now\r\n",
        "Ladies, Here's A Funny Video Depicting What Our Reproductive Health Care Is Really Like\r\n",
        "When A Huge World Religion Suddenly Shifts Its Messaging \u2026 Stuff Just Got Real\r\n",
        "People Were Outraged By What He Said His Entire Life, But Right Before He Died? He Was Still At It.\r\n",
        "Here\u2019s A Simple Idea That Will Make A Huge Difference In The Lives Of Millions. Will Anybody Listen?\r\n",
        "Enjoy A Few Moments Of Messed-Up Messages, Created And Shared By The Beauty Industry. Here It Comes.\r\n",
        "L. Ron Hubbard's Great-Grandson Spills The Family Secrets On How Scientology Started. Eek.\r\n",
        "14 Fact-Checked Things To Make Your Pessimistic Friends Realize 2014 Might Not Be A Factory Of Awful\r\n",
        "Feeling Anxious About Weed Legalization? Take A Hit Of This.\r\n",
        "My Favorite Line From This Trailer? \u2018If Another Country Was Doing This To Our Kids, We\u2019d Be At War.\u2019\r\n",
        "I\u2019m Starting To Think About My Tax Return, And This Guy Makes A Ton Of Sense\r\n",
        "Here's An F-Word That's OK To Say Around Children, But Really Hard To Explain To Them\r\n",
        "By Looking At Her, You May Not Know What She's Hiding Underneath\r\n",
        "Fuck Yeah, Sex Ed! Want To Know The Difference Between Sexual And Romantic Orientation?\r\n",
        "Here's What Millennials Need To Consider When They Finally Get That Job\r\n",
        "How A Little Paint On The Side Of A New York City Building Can Help Change A Life Forever\r",
        "\r\n",
        "53 Miles Of Fence, $1 Billion, And Sensors That Can\u2019t Tell Cattle From People...\r\n",
        "Having A Bad Day? Here Are 46 Powerful Things You Should Really Hear.\r\n",
        "See These 2 Singers Do An Amazing Cover Of Beyonce's Song About The Dangerous Standards Of Beauty\r\n",
        "Why You Won\u2019t Look Away So Quickly Next Time You\u2019re Walking Down The Street\r\n",
        "In America, Having A Blended Family Isn't A Big Deal. For This Woman In India, It's Huge.\r\n",
        "I'm So Used To TV Personalities Making Excuses For Offensive Segments That I Didn't Expect This\r\n",
        "And The Prize For 'Most Innovative Way To Spread Mental Health Awareness' Goes To...\r\n",
        "Feel Like Having Your Teeny-Little Mind Blown? Just Start Watching. It Won't Take Long.\r\n",
        "While We Weren\u2019t Looking, 1.3 Million People Just Got The Shaft. Happy New Year.\r\n",
        "Roses Are Red, Violets Are Blue. I'm Not Pregnant, All Thanks To You.\r\n",
        "I Never Knew American Health Care Was A Lottery Till I Saw What This Guy Had To Say\r\n",
        "I Waited A While To Make Sure That This Is THE Best Nelson Mandela Tribute\r\n",
        "A Nonviolent Man Is Serving Life After Breaking A Now-Expired Law. They\u2019re Asking Obama To Help.\r\n",
        "It's Fairly Common, And It's Dangerous. These 7th-Graders Show Us What It Can Look Like.\r\n",
        "An Awesome History Of Money In Politics In 3 Delightfully Nerdy Minutes\r\n",
        "Young Teen Shows Us What Having ADD Really Feels Like To Him\r\n",
        "The Video You Need To See Before You Spend Another Second Arguing About Health Care\r\n",
        "When America's Sweetheart Asks Us To Stop Using This Word, Should We Listen?\r\n",
        "One Of Matt Damon's Finest Performances Was Never In Theaters\r\n",
        "I Love This Bollywood Star's Approach To Dealing With Questions About What Being Gay Means\r\n",
        "What Does This Lesbian Talking Head From Fox News Have To Say About Being Politically Correct?\r\n",
        "This Ad From India Shows Men Exactly How Creepy They Are When They Stare At Women On The Street\r\n",
        "There's Something Absolutely Wrong With What We Do To Boys Before They Grow Into Men\r\n",
        "What's It Like Being An Unmarried Woman Over 30? Looks Pretty Cool To Me.\r\n",
        "This Is The Best A Breathalyzer Will Ever Sound\r\n",
        "Imagine Trying To Pay Bills On Little Money. Then Imagine They Want To Take Half Of That Away.\r\n",
        "This Video Both Enlightened And Confused Me About Solving Climate Change. That's Why I Love It.\r\n",
        "You Think You Know How Much We Depend On Fossil Fuels, But You Have No Idea\r\n",
        "A Dude Trying To Ban Abortions Is Asked A Question He Never Considered. It's So Obvious It Hurts.\r\n",
        "They're Not Rich Or Famous, Heroes Or Victims. Just 2 Really Cool Ladies Doing Their Badass Thing.\r\n",
        "I Can\u2019t Promise Santa Will Give You More Presents If You Follow These Tips \u2026 But Maybe?\r\n",
        "Why You\u2019ll Be Telling Your Kids About The Days When We Used To Have Electricity\r\n",
        "Bill Nye Is Too Busy Saving The World To Say, 'I Told You So'\r\n",
        "Sick Of New Year's Just Being About Sparkles And Confetti? Here's A Story Worth Listening To.\r\n",
        "Well, It's Official. This Holiday Gift Idea Is Way More Meaningful Than Everything I've Got.\r\n",
        "Wow, A Really Interesting (And Telling) Look At Where Our Attention Went This Year\r\n",
        "How Much Has Changed In The Last 13 Years? One Country Answers In 13 Incredible Photos.\r\n",
        "This Is The Easiest Way To Explain Equal Pay For Women. And Maybe The Funniest.\r\n",
        "This Is How Marketing Works, And It's Devastating\r\n",
        "Some People Call It 'The Best Anti-Smoking Ad Ever.' After Watching, I Might Be One Of Them.\r\n",
        "This Guy Tries, For One Day, To Do The Work That Some Do Every Day. Watch What Happens\u2026\r\n",
        "A Smartypants Scientist Makes An Easy Analogy About Our Planet, And Now I'm Scared\r\n",
        "What They're Doing To Kids In Pennsylvania Is Dooming Them To Fail\r\n",
        "Here's A Way To Never Get Shady Looks At Your Local Farmers Market Again\r\n",
        "He Knows When You're Sleeping. He Knows When You're Awake. He Should Probably Mind His Own Business.\r\n",
        "Most Of These People Do The Right Thing, But The Guys At The End? I Wish I Could Yell At Them.\r\n",
        "The Surprising Reason This Inmate Says, 'Now I Think Before I React'\r\n",
        "It's Been A Slow Process For Emily To Become Ethan. So He's Apologizing For The Wait.\r\n",
        "The Simplest Explanation Of How To Get Out Of This Jobs Crisis I've Seen Yet\r\n",
        "Cannot. Stop. Laughing. Never Have I Seen Such A Clever Parody Of Social Smoking.\r\n",
        "Here Is How One Artist Captured The Fragility Of An Abusive Relationship\r\n",
        "The Shocking Reality Of What Is 'Hidden In The Harvest'\r\n",
        "If You Thought Someone Couldn't Explain Empathy With A Dry-Erase Marker, You're Wrong\r\n",
        "An NBA Star Came Out As Gay, And President Obama Called Him. Others Experience Kind Of The Opposite.\r\n",
        "If The Christmas Song 'Baby, It's Cold Outside' Were A Little More Truthful It Would Sound Like This\r\n",
        "Watch What Matthew Perry Says When A Dude Says His Drug Addiction Is His Choice\r\n",
        "20th Century Fox Gave Him $25,000 To Make A Movie Trailer. Here's What He Did Instead.\r\n",
        "What Is Happening Here? It's Like My Worst Nightmare, And It\u2019s Making Me Giggle.\r\n",
        "Remember The 'Crack Babies' Scare? It Turns Out They Forgot To Use The Scientific Method.\r\n",
        "So Your Girlfriend Says She\u2019s Fat. Here\u2019s Why 'No, You're Beautiful' Isn't Always The Best Response.\r\n",
        "A Dude Got Tired Of A Congressman Taking Legal Bribes, So He Had No Choice. Time For A Prank.\r\n",
        "What One Guy Has To Say About Our Country's Obsession With Buying Stuff Is A Huge Reason To Stop\r\n",
        "An Effect Of Discrimination You Might Have Suspected But Have Never Seen Proven. Until Now.\r\n",
        "A Gut-Punching Ad Shows 2 Perspectives On Your Last Years. Which Describes Where You're Headed?\r\n",
        "A Male Feminist\u2019s Take On Crying, Pornography, And Miley Cyrus\r\n",
        "If More People Knew The Secrets Those In Power Keep From Us All, We Would Toss Them Out On Their Ear\r\n",
        "There Are Some Selfies That Should Be Kept To Your Selfie\r\n",
        "Stop Asking Where Young Feminists Are. They Aren't Unicorns. They Exist. In Fact, Here\u2019s One Now.\r\n",
        "This Really Happy 13-Year-Old Hacks His Education, And Now I Regret I Didn't Do The Same With Mine\r\n",
        "One Minute You're Walking Down The Street. The Next, You're Arrested And Jobless. What Did You Do?\r\n",
        "Wow. Watch These Rhinos Fly! Much Endangered.\r\n",
        "Well, There Goes Pennsylvania. And It Used To Be Such A Nice State.\r\n",
        "A Sarcastic Ad About Charity That Is So On Point I Wish I Could Fist-Bump Ads\r\n",
        "A Fashion Designer Uses Her Mannequins To Send A Message That Hurts\r\n",
        "In A Decade Or Two, I Bet Most People Will Feel The Same Way That Guy From 'The Hunger Games' Does\r\n",
        "6 Guys Challenge Decades Of Stereotypes Using Only A Whiteboard And A Marker\r\n",
        "Psst ... Wanna Buy Some Stuff Right From The People Who Make It?\r\n",
        "Here's The Science You Can't Not Know Before Making That Ambitious New Year's Resolution\r\n",
        "An Off-Duty Cop Gets Thrown Up Against A Wall And Frisked\r\n",
        "If You're Living In A Developed Country But You're Not Happy, What Are You Doing Wrong?\r\n",
        "Not An Exaggeration: This Video Can Actually Help You Save Someone's Life One Day\r\n",
        "They Threw A Grenade At Her Brother Because She Helped Women\r\n",
        "He's Speaking To Your Children. Would You Freak Out If They Listened?\r\n",
        "Why Does Being Right-Handed Totally Violate The Basic Laws Of Physics?\r\n",
        "Head Doctor Says A Rich Kid Isn't Guilty BECAUSE He's Rich. Reporter Says What We're All Thinking.\r\n",
        "The Snoop Dogg-y Spoof Of President Obama That's Too Good Not To See\r\n",
        "The Problem With Celebrity Coverage? They Never Show This Kind Of Video.\r\n",
        "How Being A Douchebag Still Seems To Be Absolutely OK In America\r\n",
        "One Time A Guy Gave A Homeless Man A Computer, And The Recipient Did Exactly What The Giver Expected\r\n",
        "My Wife Didn't Get Why I Was So Into This Woman. But After About 40 Seconds, We Were Both Obsessed.\r\n",
        "You Take Zillions Of Photos With Your Cellphone ... Why Not Try Something New With Them?\r\n",
        "There\u2019s A New (Old) Way To Think About Money. Are You Ready For It?\r\n",
        "Environmental Benefits Aside, This Looks More Pleasant Than Honking And Yelling Out The Window\r\n",
        "Perfect! A Gift For All The People In Your Life Who Don\u2019t Actually Need More Stuff.\r\n",
        "Think Gen Y's Lazy? I'mma Print This Chart, Origami It Into A Mustache, And Stick It On Your Face.\r\n",
        "He Used To Live Off The Land. So What Made Him Pick Up A Chain Saw And Go At It?\r\n",
        "Leave It To A Religious Leader (Yup!) To Make A Totally Perfect Argument For LGBT Rights\r\n",
        "Parents Should Never Outlive Their Children. Can We All Agree On That, At Least?\r\n",
        "A 16-Year-Old Girl With Nowhere Else To Turn Trusted Them. But They Had Their Own Agenda.\r\n",
        "If You Need An Example Of How Silly Our Standards Have Gotten For How Women Look ... Ta-Da!\r\n",
        "I Can Think Of A Few World Leaders Who Would Benefit From Watching This Video\r\n",
        "These 2 Adorable Children Are Excellent Reasons To Pass A No-Brainer Law\r\n",
        "I Dare You To Sit Through This Whole Video. It's Short. But I Hope You\u2019ll Learn Something New.\r\n",
        "First These Women Were Offended. Then They Realized Who Was Being Offensive.\r\n",
        "You Know It's Bad, But You Do It Anyway. Let These People Tell You Why You Should Stop. Immediately.\r\n",
        "The Way This Poet Talks About Manhood Has Me Questioning Exactly What It Is\r\n",
        "A Science Icon Died 17 Years Ago. In His Last Interview, He Made A Warning That Gives Me Goosebumps.\r\n",
        "Watch 2 Police Officers Have Very Different Reactions To A Bunch Of Children Protesting The Law\r\n",
        "One Woman's Journey Into Sex Slavery And Back In The Heart Of Silicon Valley\r\n",
        "You Think His Big Brother Will Fight The Attacker. Then There's A Shockingly Beautiful Twist.\r\n",
        "You Will Never See A Shorter, So Straight-To-The-Point, No-BS Take On Vaccines. And It's Pretty.\r\n",
        "It\u2019s Crazy How Normal People Look Underneath All That Makeup They Use To Look Normal\r\n",
        "Here\u2019s How To Save On Gas Money. Whether You Spend It On Christmas Presents Or Beer Is Up To You.\r\n",
        "It's Easy For These Celebrities To Go Home \u2014 Not So Easy For Who They're Talking About\r\n",
        "A Few Weeks Before She Was Crowned 'Miss World,' She Was Raped. But This Isn't Just Her Story.\r\n",
        "This Alcohol Ad Takes A Very Honest Turn. Surprise, Surprise, It's Mega Depressing.\r\n",
        "This Kid Thought His Parents Were Breaking Up After 20 Years, But He Was So Wrong\r\n",
        "You Don't Use The 'N' Word. Why Do You Use The 'R' Word?\r\n",
        "Why A Drug Arrest Is Not Like Other Arrests\r\n",
        "The Startling Facts That Should Devastate America\r\n",
        "I Can't Even Assemble An Ikea Dresser With Instructions, And This Kid Built A Dang Windmill\r\n",
        "If You've Never Heard Of A 'Reverse Racist,' Watch This Stand-Up Comedy Set\r\n",
        "I Am Livid That A Magazine Did This To Jennifer Lawrence, And My Guess Is She Is, Too\r\n",
        "Oops! Poor Language You Might Be Guilty Of Using Without Even Realizing\r\n",
        "A Firefighter Went To Put Out A Fire, But He Had No Idea He Would Be A Hero Of A Different Kind\r\n",
        "A Video On Why Condoms Aren't Perfect Will Make You Laugh More Than Worry You\r\n",
        "Watch This Grocery Store Erupt In Song For The Man The Entire World Loved\r\n",
        "She Was Raised To Believe Women Are Worthless. You Should See What Changed Her Mind.\r\n",
        "Hard To Believe The Woman At The End Of This Video Is The Same Woman As At The Beginning\r\n",
        "WATCH: Celebrities Wasting Money To Make The World A Better Place\r\n",
        "One Of The Biggest Hell-Yeah Moments In Modern History, Told In 4 Minutes\r\n",
        "You Wouldn't Want This To Happen To Your Baby, But It Happens To A Thousand Babies Every Single Day\r\n",
        "\u200bSorry, Pregnant Lady: You Can't Give Birth Here Because You're Poor\r\n",
        "Black Girls Code. Simple Name, Revolutionary Premise.\r\n",
        "Turns Out, Happiness Is Sorta Like A Muscle. And Here's How You Can Exercise It.\r\n",
        "console.log(&quot;How Millions Of Students Are Learning A Crucial Skill That Most Schools Don't Teach&quot;);\r\n",
        "That Burger Looks Innocent, But It\u2019s Hiding More Secrets Than A Teenager\u2019s Diary\r\n",
        "Only 15 Out Of The 566 Nobel Prize Recipients Have Been Women, And Other Terrible Facts\r\n",
        "He Died Too Young. So All His Friends Got Together To Make Sure Future Generations Of Kids Don't.\r\n",
        "What Do These Scary-Looking People Have To Do With Child Abuse? The Answer Is Pleasantly Surprising.\r\n",
        "Nice Shirt Ya Got There. Care To Find Out A Little About Who Made It?\r\n",
        "The Earth\u2019s Next 100 Years, Visualized\r\n",
        "When You Are Alone, Do You Feel Lonely?\r\n",
        "A Little Taste Of What Capitalism Is Like When It Has No Limits\r\n",
        "Look At These Beautiful Women, Then See How Much Photoshop This Fashion Magazine Chose To Use\r\n",
        "I Loved The Pretty Dots On This Map ... But Upon Further Inspection, I Felt Sick To My Stomach\r\n",
        "Say Hello To The Ingenious Invention That's Maybe Gonna Be Around Longer Than All Of Us\r\n",
        "The Secret Weapon A Woman Created To Save Herself From The Brink Of Suicide\r\n",
        "Welcome To That One Time When You\u2019re Thrilled That Kids Look Up To A Gang\r\n",
        "For Many Divorced Women, Having To Deal With This Every Week Is Simply What Life Is\r\n",
        "Wow, A Super Simple Set Of Steps To Stop Cyberbullying From Happening To Your Kid\r\n",
        "A Drastically Awesome Way To Escape What's All Around Us\r\n",
        "Yeah So If You Could Not Ban People From Having Sex, That Would Be Great\r\n",
        "Sometimes, Silence Is A Good Thing. Here, It's Most Definitely Not.\r\n",
        "A Frightening Bully Tried To Mess With One Young Farmer, But She's Not Havin' It\r\n",
        "Most Math Lectures Make Me Want To Take A Nap. This One Made Me Rethink Most Of Earth's Problems.\r\n",
        "Fill In The Blank: Nice Guys Finish ____. Nope, Not After What You're About To See.\r\n",
        "These Hilariously Witty Comebacks To Sexist Comments Are Perfect\r\n",
        "NAILED IT: This Ad Calls Out 5 Ridiculous Double Standards Women Face In Less Than 60 Seconds\r\n",
        "The Anti-Bullying Video That Could Probably Win An Oscar\r\n",
        "A Gay Comedian Steps Into The Mind Of A Homophobic Dad And Finds A Sad, Sad Truth\r\n",
        "Students Of New York City Tell Their New Mayor How Standardized Testing Squashes The Learning Bug\r\n",
        "5 Myths About Our Schools That Fall Apart When You Look Closer\r\n",
        "A Congressman Loses His Temper When Told To Not Talk About The People Suffering In The Room\r\n",
        "A Surprisingly Simple Way To Know Which Companies Are Cool And Which Are Sorta 'Meh'\r\n",
        "Do All The Double Standards For Women Make Your Head Spin? Here's A Comic For Ya.\r\n",
        "A Poem For All The 'Boobs Guys' And 'Butt Guys' Out There\r\n",
        "So A Dirty Joke And A Hilarious Muslim Feminist Walk Into A Bar...\r\n",
        "This Man Lost One Of The Most Important Parts Of His Life. 25 Years Later, He Found It Online.\r\n",
        "Did That Really Just Happen? Yep. This Guy Pulled Down His Pants, On Stage, During His TED Talk.\r\n",
        "One Singer's Response To A Huge Promise Being Broken\r\n",
        "Ever Fall In Love With The 'Wrong' Person? He Has A Few Stunning Things To Say About That.\r\n",
        "'How Old Are You' Is The Simplest Question Ever. So Why'd It Ruin An 11-Year-Old's Life?\r\n",
        "Why Does Sarah Silverman Say Vaginas Really Really Scare People?\r\n",
        "The #1 Reason J.K. Rowling Won't Move To Monaco Will Make You Love Her Even More\r\n",
        "Watch A Man Who Saved 669 Children From Death Camps Get A Tearful Surprise On TV\r\n",
        "FREE SEX! Did You Just Shrug And Go 'Meh'? Have I Got A Comic Just For You.\r\n",
        "What Is Depression? Let This Animation With A Dog Shed Light On It.\r\n",
        "After Hearing Someone Shame Women Who Have Abortions, She Bravely Spoke Out About Her Own\r\n",
        "Think You Know What 'Fat' Means? You Should Listen To This Dude's Definition.\r\n",
        "401 Places You Love That Are Still Struggling After The Government Shutdown\r\n",
        "There's A Reason This Guy Doesn't Drink Anymore. Apparently, He Doesn't Want To Die.\r\n",
        "I've Just Read Nelson Mandela's Beautiful Advice On How To Live, And Now I Want To Make Some Changes\r\n",
        "I Bet These People Never Expected To Be Models, But The Results Are So Gorgeous\r\n",
        "A 15-Year-Old Ad About Racism Is A Great Reminder Of The Power We All Have To Promote Justice\r\n",
        "On May 10, 1994, Nelson Mandela Silenced The World With These Inspiring Words\r\n",
        "A Kid Came Up To Her In The Hall And Told Her She Saved His Life. He Wasn\u2019t The Only One In Tears.\r\n",
        "These Little Girls Are Asking The Most Devastating Question I Can Imagine\r\n",
        "Math Is Astoundingly Beautiful, And We've Found The Video To Prove It\r\n",
        "Dear Creeps On The Street: No, My Name Is Not 'Hey Baby'\r\n",
        "A Boy Was Born Without A Hand. I Couldn't Have Guessed What His Dad Made For Him. Mind: Blown!\r\n",
        "Fast Food Workers Are Walking Out All Across The Country. Here's Why.\r\n",
        "Watch This 6-Year-Old Give You The Most Adorable Guilt Trip Ever\r\n",
        "Find Out What A Bunch Of Happy, Smiling, Fulfilled People Are Calling Their Best Free Therapy\r\n",
        "A Glimpse At How The Media Treated Women This Year Is A Look At Way Too Many Cringe-Worthy Moments\r\n",
        "Someone Put 2 Examples Of Anti-Science Politics Side-By-Side. The Results Are Damning.\r\n",
        "5 Minutes Of What The Media Actually Does To Women\r\n",
        "A Visualization Of World War II Like You've Never Seen Before\r\n",
        "We Don\u2019t Hear Enough From Native American Voices. Here\u2019s An Inspiring Message From One.\r\n",
        "Something We've Had Since Humans Have Been Around Might Be Lost On Your Grandchildren\r\n",
        "If A Man Asks What Women Have Been Asking For Centuries, Will Men Finally Listen?\r\n",
        "The Horrifying Crisis That Is Barely Being Talked About\r\n",
        "My 'English Only!' Father-In-Law Is Going To Hate Me For Finding This One\r\n",
        "Why It's Time To Stop Fighting 'AIDS In Africa.' No, We're Not Evil.\r\n",
        "The Kind Of Prison You Really, Really, Really Don\u2019t Want To Go To\r\n",
        "Good Luck Finding A More Polite Takedown Of Climate Change Deniers\r\n",
        "The One Where A Walmart-Friendly PR Firm Creates An Ad So Full Of Propaganda It's Actually Hilarious\r\n",
        "The Poster Is Mesmerizing. The Story It Tells Is Electrifying. Have You Seen It?\r\n",
        "Watch These Little Girls In Afghanistan Be Better At Skateboarding Than You'll Ever Be\r\n",
        "We May Tell Our Kids That Life Isn't Fair, But We Should Actually Listen To Them Talk About Fairness\r\n",
        "A Stampede Of People On Black Friday Is A Bad Thing. A Stampede On This New Holiday? Spectacular.\r\n",
        "This Famous Actor's Disguise Isn't Foolin' Anyone, But Why He Puts It On Is A Pure Delight\r\n",
        "Folks Who Work In Tipped Jobs Would Like You To Spend A Minute Looking At Something\r\n",
        "He Starts With 17 Lego Pieces And Ends Up With 6. The Reason Why Involves All Of Us.\r\n",
        "Some Creepy Dudes Said Some Creepy Things To This Scientist. So She Is Addressing Them In Public.\r\n",
        "It's Not A Ghost Or An Alien. It's Real, And It's Way Scarier.\r\n",
        "'Ugh, Food Stamps Are For Lazy Freeloaders!' Well, Let's Look At The Facts.\r\n",
        "The Reasons Some People Fight For Others Are Very Clear To Him\r\n",
        "She Was 40 When The Nazis Took Her. Now, She's Outlived Them And Has Something Incredible To Say.\r\n",
        "This True Story About Organ Trafficking Is Like Every Urban Legend You've Heard, But Worse\r\n",
        "Wow, Here's A Scarily Simple Way To Sabotage Your Life And Everyone's Around You\r\n",
        "The Incredible Number Of People Who Touch Your Food Before It Hits The Table\r\n",
        "If You Pass One Of These People At The Airport This Season, Maybe Tell Them You Support Them?\r\n",
        "They Asked If She Had Anything Else She Wanted To Say To The Audience. That's When She Took It Home.\r\n",
        "They Weren\u2019t Happy With What She Said. So She Said It Again.\r\n",
        "The South African Version Of 'Sesame Street' Is Different In One Eye-Opening Way\r\n",
        "Politics Aside, This Is Just A Man Talking About Grief\r\n",
        "Sometimes The Cops Help You Find Your Stolen Car. Sometimes The Cops Are The Ones Who Stole It.\r\n",
        "More Than 93 Percent Of Americans Totally Want This To Be Legalized. (And It's Not Weed.)\r\n",
        "Before You Go Shopping Today, Listen To This Harvard Guy Talk About Spending Money And Happiness\r\n",
        "He's The Only One In His School. Instead Of Feeling Special, He Gets Bullied Everywhere.\r\n",
        "A Comedian Has Some Truth To Drop About Diversity, And You'll Want To Listen\r\n",
        "Walmart Went On The Record About What It Pays Its Workers. It Didn\u2019t Count On Us Knowing Math.\r\n",
        "McDonald's Has An Entire Menu Of Life Advice For Its Workers \u2014 It's About As Wholesome As The Food\r\n",
        "The Video That Will Reveal To Your Children What A Marshmallow-Prejudiced Hypocrite You Are\r\n",
        "If You Tell This Dude To 'Man Up,' You Better Be Prepared To Learn Why What You Said Is Awful\r\n",
        "What Warren Buffett And Bill Gates Think Is 'Very Unfair' Might Shock You\r\n",
        "Know A Hero: His Name Is Mechai Viravaidya, But You Can Call Him Mr. Condom\r\n",
        "If You've Ever Felt Not Quite Good Enough, You Might Appreciate This\r\n",
        "The One Where A Woman Keeps Repeating A Hurtful Term That's Been Hurled At Her For Her Entire Life\r\n",
        "They Thought It Couldn't Happen To Them. And Then It Did.\r\n",
        "The Problem Isn't Racial Profiling In Stores. It's Just That People Don't Know How To Shop!\r\n",
        "Once Upon A Time, 1 Guy Decided To Change 3 Lives. It's Not A Fairy Tale \u2014 It's Real Life.\r\n",
        "A Neo-Nazi Walked Into A Jewish Man's Antique Store. Can You Guess What Happened Next?\r\n",
        "The Side Effect Of Birth Control No One Ever Talks About\r\n",
        "It\u2019s Like Visually Delicious Stuffing For Your Brain: An Animated Thanksgiving History Lesson\r\n",
        "He Was Asked Why Whiteness Made Him So Uncomfortable. His Response Is Pretty Profound.\r\n",
        "Feeling Crappy? Hear This Little Song Remind You That Things May Not Be Too Bad\r\n",
        "When They Imagine Clothes For Models, Here's What Actual Women Would Have To Look Like\r\n",
        "Watch The Moment Angelina Jolie Stands Up For Women Worldwide To The UN\r\n",
        "These Mothers Literally Turned Rags To Riches\r\n",
        "They Took 3 Years Of His Life. Now It's His Turn To Fight Back.\r\n",
        "How Would It Look If Vaccines Were Advertised Just Like Prescription Drugs?\r\n",
        "The Day After His Dad Dies, He Waits Until The End Of His Show To Tell Us About It. Just Beautiful.\r\n",
        "This Recent Bill Is Everything That's Wrong With Politics In One Very Expensive Nutshell\r\n",
        "I Don't Remember This Pretend Scene From The 'Hunger Games' Sequel, But It Sure Is Awfully Realistic\r\n",
        "10 Reasons That Just May Convince Anyone That Science Is Awesome\r\n",
        "When I Figured Out What This Girl Is Doing, I Felt Sick To My Stomach\r\n",
        "A Little Kid Explains A Solution To Reducing Gun Violence. Makes Sense To Me.\r\n",
        "They Did It 86 Times To Every Other President Combined. 82 Times To Obama Alone.\r\n",
        "You Know How You\u2019re Supposed To Always Want To Be Younger? Well, Screw That.\r\n",
        "A Church Told A Pastor That He Couldn't Preside Over His Son's Wedding. He Responded Like A Dad.\r\n",
        "A Lot Of People Find It Hard To Talk To Laura. So She Put Together 4 Easy Tips.\r\n",
        "No Big Deal. He's Just Trying To Educate The Whole World. For Free.\r\n",
        "When Being The Biggest Employer With The Most People On Welfare Is Considered A Success Story\r\n",
        "If Your Work Or Home Life Involves Sitting, You Really Should Watch A 3-Minute Clip About ... Well, Sitting!\r\n",
        "Hear The Moment This Audience In Boston Found Out JFK Had Been Shot.\r\n",
        "A Student Explains What's Wrong With Our School System And Why We Mistrust Teachers. Nails It.\r\n",
        "A Kid Says Something To A Teacher That No One Should Have To Experience\r\n",
        "That One Time When A Company With A Gajillion Dollars Tried Collecting Food Donations For Its Staff\r\n",
        "Stephen Fry Somehow Makes Sense Of Racism\r\n",
        "An Elegant And Concise Breakdown Of Why Drug Prohibition Will Never Work\r\n",
        "\u200bRead The Witty Suggestion An Advice Columnist Gives To A Homophobic Parent\r\n",
        "The Dalai Lama Has Some Very Uplifting And Wise Words About Farting\r\n",
        "What Does It Take For A Black Person To Live In Chris Rock's Neighborhood?\r\n",
        "The Simple, Beautiful Gesture That Can Turn A Crowd To Love Instead Of Hate\r\n",
        "Watch 2 Dudes Bring A Trolley Full Of People To Rousing Applause\r\n",
        "Some States Have Decided That People Living On The Edge Might Not Be Such A Great Idea\r\n",
        "See A TV Host\u2019s Perfect Message To A Young Girl Whose School Called Her \u2018Unacceptable\u2019\r\n",
        "They're College Grads. They're Doing Real Work. But They Can't Even Make Minimum Wage?\r\n",
        "In 3 Minutes, He Nails What No One Wants To Hear About Those Canceled Health Plans\r\n",
        "The Reality That Homeless Children Live \u2014 Told By Mark, 10 Years Old\r\n",
        "Some People Get Drum Sets To Play Music. This Person Got One For A Much More Beautiful Reason.\r\n",
        "If You Said 10 Years Ago Someone Like Her Would Be Famous, This Actress Might Have Laughed At You\r\n",
        "You Might Know Him For His Music, But There Is A Lot More To Know. And It Might Surprise You.\r\n",
        "An Artist Counted Every Atomic Explosion On Earth And Shows Them All In A Matter Of Seconds\r\n",
        "How Changing The Definition Of One Word Might Make TV Shows Worse But Real Life Better\r\n",
        "Everything You Always Wanted To Know About The Way Hasidic Jews Look But Were Afraid To Ask\r\n",
        "Think Your Scars Are Ugly? This Artist Thinks You're A Walking Work Of Art.\r\n",
        "Most Americans Are 5 Generations Removed From Something That Used To Be All Around Us\r\n",
        "Hey There, Person Who Doesn't Think You're A Feminist. You Probably Actually Are.\r\n",
        "This Face Is The Most Famous Nobody You've Ever Never Heard Of\r\n",
        "A Typhoon Hit His Country \u2014 Now Hear His Tearful Plea To The World\r\n",
        "This Kid Just Called His Mom An Angel. After Watching What She's Done All Day, I Totally Agree.\u00a0\r\n",
        "A Teenager Articulates How Policies Should Be Created Better Than Most Adults Probably Could\r\n",
        "If 3 Little Girls Did This To My House, I'd Do Everything I Could To Get Them Full Rides To Stanford\r\n",
        "I Respect These Female Heroes So Much More With Tiny Waists And Sparkly Dresses! LOL J/K.\r\n",
        "In The USA, Tipping Is Not Optional. You Read That Right.\r\n",
        "Hugh Jackman Gives Us A Much-Needed History Lesson And A Wake-Up Call\r\n",
        "A Famous Actor Asks 6,000 Kids For Help. The Result Is A Different Kind Of Scientific Breakthrough.\r\n",
        "Your 4-Minute Reminder To Give A Fuck\r\n",
        "A 15-Year-Old With A Huge Brain And An Even Bigger Heart Blows MIT Away\r\n",
        "What's It Really Like To Be Transgender? Raw Answers To The Questions You've Been Too Nervous To Ask\r\n",
        "Before You Say Corporations Don't Do Anything Good, Check Out Who Got These Dogs A Home\r\n",
        "Yet Another Reason To Question The Thing We Spend 3 Billion Hours A Week Doing\r\n",
        "A Crooning Toilet Is Going To Raise Your Standards For What It Means To Be A Potty Mouth\r\n",
        "What Do You Get When You Add A Disease To A Kids' Toy? Genius.\r\n",
        "Why You Can't Always Blame Parents When Their Kids Eat Fast Food\r\n",
        "We're Being Robbed, But The People Doing It Will Never Go To Prison\r\n",
        "It's Hard To Speak About These Things In Public. So He Drew This Instead.\r\n",
        "Carl Sagan Tries To Explain Evolution To An Argumentative Guy\r\n",
        "Your First Reaction To Seeing A Crime In Progress Is To Report It. Not These Folks. Here's Why.\r\n",
        "Some People Call Violence A Disease. So These People Came Up With A Treatment.\r\n",
        "If You Can Watch This Trailer And Not Get Excited About The Movie, You're Made Of Stone\r\n",
        "Noticed A Rise In Mustaches Around You Recently? Meet The Reason Why.\r\n",
        "And Now For Your 1 Minute Of Inspiration \u2014 How Change Happens\r\n",
        "Most 21-Year-Olds Have A Messed Up Sense Of Humor. Well, This Guy Has An Awesome Reason For It.\r\n",
        "A Similar Question Is Asked To Parents And Then Their Kids. The Difference Is Kinda Stunning.\r\n",
        "A Quick Guide To Identifying Someone's Sexual Orientation By Appearance Alone\r\n",
        "A 6-Year-Old Girl Walked Into A School \u2014 And 500 Kids Were Removed Because Of It\r\n",
        "That Time Jon Stewart Did A Panel On Racism And Made The Whole Internet Laugh\r\n",
        "A Famous Columnist Has Trouble Defining Racism. Colbert Eats Him For Dinner.\r\n",
        "A Marine Was Assaulted. Her Commander Said She Deserved It For Wearing Running Shorts.\r\n",
        "Here Is What Happens When A Trailblazer Does Just That\r\n",
        "Kids To People Who Are Afraid Of Gays: 'If I'd Have Gotten A Bunch Of Microscopes, Would I Be Gay?'\r\n",
        "These Alarming Facts Essentially Say: Women, You're Collateral Damage\r\n",
        "A Dude Dresses Up As Captain America And New Yorkers Can\u2019t Even Handle It\r\n",
        "Dear Sexist Music Industry \u2014 Here Is Janelle Monae Giving You Some Real Talk\r\n",
        "We Use It Every Day ... Even Though It's Just About As Dangerous As Cigarettes\r\n",
        "His Piano Playing Is Beautiful. I\u2019m Glad He Has Somewhere To Play It Now.\r\n",
        "I Wish I Were More Surprised At What A Student Exposed About His School, But I'm Not\r\n",
        "CUZ YOU HAD A BAD DAY \u2014 Or Maybe Not. Regardless, Here's 4 Minutes Of Pure Love.\r\n",
        "This Is Reality For Many Americans When It Comes To Answering One Question\r\n",
        "Farmers These Days Look Different Than They Used To. We Can Thank This Photographer For Noticing.\r\n",
        "He Finds The 'Wrong' Person Attractive, So Now All Our Lives Are At Risk?\r\n",
        "How One Airport Is About To Start Treating People With Dignity\r\n",
        "How A Scientist Tricks His Brain Into Solving Ultra-Complex Problems\r\n",
        "The Subliminal Message In So Many Animated Kids\u2019 Movies And Shows Isn\u2019t About Violence\r\n",
        "Some Call It The Miracle Of Life. They Call It An Inescapable Curse.\r\n",
        "Can You Believe Coke And Pepsi Are Desperate Enough To Stoop So Low?\r\n",
        "This 'Super-Sized' Random Act Of Kindness Is Sure To Brighten Your Day\r\n",
        "Yeah, But She Didn't Think She'd End Up In Prison Either\r\n",
        "What One Thing Has Every Woman Of A Certain Age Done, According To Meryl Streep?\r\n",
        "Why Does Europe Always Do Things Better? Washing Machines, Public Transport, And Now \u2026 Economies?\r\n",
        "That Girl From 'The Hunger Games' Is Asked A Poignant Question, And I Love Her Answer\r\n",
        "How Many Countries Are There? Simple Question, Ridiculously Complicated Answer.\r\n",
        "This Aggressive, Combative, Negative Speech Is Somehow Incredibly Motivational\r\n",
        "The One Where An Elderly White Couple Tries To Rap And Actually Pulls It Off\r\n",
        "Who'd Have Thought A Man Talking About His Arm Would Be So Interesting?\r\n",
        "Within 5 Seconds, You Won\u2019t Like Him. By The Time He Laughs, You\u2019ll Hate Him.\r\n",
        "They Asked Him His One Wish To Change The World. He Showed Them His Art.\r\n",
        "Another Creepy Example Of How Real Life Is Way Scarier Than The Made-Up Stuff\r\n",
        "She Knocked On His Door Asking For Help \u2014 He Shot Her Dead. You Need To Know Who Renisha McBride Is.\r\n",
        "This Is Not A Joke. You May Laugh, But You Shouldn\u2019t. It\u2019s Quite Horrifying.\r\n",
        "What He Has To Say About Your Favorite Products And Brands Should Do More Than Worry You\r\n",
        "Next Time You Check The Tags On A New Shirt, You May Also Want To Check For This\r\n",
        "A Room Full Of Feminists Just Applauded A Guy Who Attacked Feminists. Wait For It\u2026\r\n",
        "Ellen Thanks Ashton Kutcher For Giving A Great Speech.  His Reply? A Great Speech.\r\n",
        "The Single Most Mind-Altering Photograph Humanity Has Ever Taken\r\n",
        "How Precious Is Your Spit To You? Because To Him, It's Potentially Life-Saving.\r\n",
        "One Veteran Spoke The Truth And Totally Stunned The Crowd, Then He Brought Them To Their Feet\r\n",
        "See How A Bunch Of Awesome Danish People Made An Immigrant Bus Driver's Day\r\n",
        "This Incredible Time-Lapse Shows Us How Dignity And Respect Can Change A Man\r\n",
        "Some Say This Model Is Fat. She Gives Such A Perfect Response That Even Ellen Applauds.\r\n",
        "A Senator Said Voter Registration Was 'Confusing.' Watch A 12-Year-Old Clear That Up For Him.\r\n",
        "All Of These Women Made The Same Choice, And We Don't Get To Judge Them\r\n",
        "This Man Helped Me Make A Huge Lifestyle Decision 20 Years Ago. His Message Is Still Spot On Today.\r\n",
        "Clear Your Next 10 Minutes Because This Video Could Change How Happy You Are With Your Entire Week\r\n",
        "True Story: One Of TV's Most Inspiring Women Almost Gave Up. Guess Who Persuaded Her Not To?\r\n",
        "What Should Have Been A Heartwarming Kiss On A Skating Rink Has Never Been More Chilling\r\n",
        "Strap On Your Helmet And Go To A Magical Land With Charlie From 'Always Sunny'\r\n",
        "2 Sentences Repeated Over And Over Get Funnier Every Single Time\r\n",
        "A 4-Year-Old Girl Asked A Lesbian If She's A Boy. She Responded The Awesomest Way Possible.\r\n",
        "A Scarily Accurate Parody That Shows How Fake Companies Are Hiding Corrupt Profits\r\n",
        "A Group Of First-Time Filmmakers Just Created Something Incredible\r\n",
        "Nothing To See Here. Just A Bunch Of Us Agreeing On Something But Too Afraid To Post It On Facebook.\r\n",
        "This Video Goes From Ordinary To Breathlessly Disturbing At 30 Seconds\r\n",
        "The Eerie Thought About God That The Inventor Of The Nuclear Bomb Had When It Went Off\r\n",
        "All It Takes Is 30 Seconds For This 6-Year-Old To Go From Adorable Child To Psychopathic Hit Girl\r\n",
        "When You Think Of Semi-Naked Models Draped Over A Piece Of Powerful Machinery, I Bet You Don't Think Of This\r\n",
        "If They Put Folks In Jail For One Kind Of Robbery, It Would Stop Right Now\r\n",
        "Hear A Comedian Explain Why We Shouldn't See A Photo Of A Topless Girl Next To The News\r\n",
        "A Rap Song About Girls And Money That Your Daughter Should See\r\n",
        "This Is Why You Are Probably Broke And Stuff\r\n",
        "Moms And Dads Are Supposed To Protect Their Kids. What These Parents Did Is Unspeakable.\r\n",
        "Haterade Got You Down? Here's A Tall Glass Of Sweet Encouragement Juice Instead\r\n",
        "Growing Up, He Was Told That Folks Making His Clothes Were 'Being Taken Care Of.' He Had No Idea.\r\n",
        "I Couldn't Be More Impressed By A Group Of Students Cutting Class\r\n",
        "We Use 4 Of These A Day, And They're Kind Of The Worst\r\n",
        "You Might See Tattoos In A New Light After You See Them On This Woman\r\n",
        "Watch What This Make-Believe Girl Means To 1,000 Sexual Predators\r\n",
        "\u200bShe's A Photographer Who Captures Humanity \u2014 Yet So Many View Her Work In Only One Way\r\n",
        "A Husband Took These Photos Of His Wife And Captured Love And Loss Beautifully\r\n",
        "Stare Into Her Eyes \u2014 Now Watch One Year In An Abusive Relationship Happen In One Minute\r\n",
        "70 Years Ago, She Dreamed Of Freedom. 30 Years Ago, They Threw Her In Jail. She's Still Fighting.\r\n",
        "The 6-Letter Insult That Certain Parents Stop Using Immediately\r\n",
        "If One Of These People Were My Mother Or Father, I'd Have To Lock Myself Up\r\n",
        "This Addiction Has Only Been Around For A Little While, But It's Hurting Our Generation\r\n",
        "6 Itty Bitty Sentences That Remind Me To Talk A Little Nicer To Myself With My Inner Monologue\r\n",
        "Every Time I Hear This Guy Talk, It's Like A Love Letter To A City\r\n",
        "Something Really Insane Just Happened In Congress, And You Probably Haven't Heard A Word About It\r\n",
        "Watch An Entire Team Of Teenage Football Players Do Something Very Unexpected\r\n",
        "Ever Tell Yourself You're In Love With A Deeply Difficult Person Instead Of Facing The Truth?\r\n",
        "Watch A Teenager Bring His Class To Tears Just By Saying A Few Words\r\n",
        "After Tragedy Hits, He Wants To Do The Last Thing You'd Expect\r\n",
        "I Almost Didn\u2019t Believe Kids Could Just Get Along With Each Other Anymore ... Until Now\r\n",
        "No Mother Should EVER Have To Make Such A Powerful Speech About Her Son\r\n",
        "Watch A Famous Actress Play Every Black Woman Alive Right Now On 'SNL'\r\n",
        "A Company Is Hoarding What It Took From Cancer Patients, And That's Not OK\r\n",
        "A Bus Driver Just Saw A Terrible Situation And Hit The Brakes To Save A Woman's Life\r\n",
        "By Day, He Wears A Suit. By Afternoon, He's In Rags \u2026 By Choice.\r\n",
        "I Thought This Was A Country That Put Kids And Families First?\r\n",
        "If You Live In One Of These States, The Impact Of Washington's Shenanigans Is Huge\r\n",
        "It Looks Like Something You Should Never See. Meet A Medical Advancement That Is Hard To Forget.\r\n",
        "What Some Kids Do Because They're Hungry ... I Have No Words\r\n",
        "Here Are The Top 4 Arguments For And Against Raising The Minimum Wage\r\n",
        "Didn't Expect Such An Eloquent Discussion From A Comedian's Standup Routine\r\n",
        "A Song About Not Letting Women Drive Cars Just Became A Hit Single\r\n",
        "One Look At This Graphic And You Might Think Women Aren't Creative, Literate, Or Intelligent\r\n",
        "If You Were Wondering How Broken Our Education System Is, Have I Got The Prison For You\r\n",
        "A Catalog That Believes Reality Can Sell Clothes Better Than Photoshop\r\n",
        "A Celebrity Translates The 1 Question Reporters Won't Stop Asking Her. She Nails It \u2014 They're Rude.\r\n",
        "The Upsetting Difference Between Men And Women, According To The World\u2019s Biggest Search Engine\r\n",
        "Don't Ask Hillary Clinton About Abortion If You Can't Handle Her Answer\r\n",
        "Ironically, The First Thing I Wanted To Do After These Comedians Made Fun Of Me Was To Tweet It\r\n",
        "How Is A Bill Collector Like A Horror Movie Villain?\r\n",
        "The Woman Who Has As Close To A Superpower As We Can Get\r\n",
        "The Food Stamp Scandals That Nobody Is Talking About On Either Side\r\n",
        "When You Can't Afford To Buy The Sandwich You Just Made On The Job, There Is Something Wrong Here\r\n",
        "Love Was Taken To Court In Australia, Won, And Ate A Piece Of Marriage Equality Cake In The Process\r\n",
        "If You Are Wondering What Costumes NOT To Wear This Halloween, Here Are Some Examples\r\n",
        "Have You Ever Looked At The Sexy Costumes Women Wear And Think They Don't Go Far Enough?\r\n",
        "OK. This Is How I Want Every Law Explained To Me.\r\n",
        "5 Halloween Posters That Hit A Little Too Close To Home...\r\n",
        "How To Tell If Your Halloween Costume Is A Crime Against Common Sense And Decency For The Reals\r\n",
        "See Why We Have An Absolutely Ridiculous Standard Of Beauty In Just 37 Seconds\r\n",
        "The Eye-Opening Study Every American Needs To See\r\n",
        "Watch These 4 Girls Destroy The Female Stereotype Like The Monsters They Are\r\n",
        "These Kids Finally Say What They Really Think About Mom. And Her Reaction? Priceless.\r\n",
        "This Is What It Looks Like When 14 Million Girls Don\u2019t Get To Be Girls\r\n",
        "I Think This Is What People Mean When They Call Our Teachers \u2018Heroes\u2019\r\n",
        "Listen To The Best (And Maybe Only?) Rap Song About Gardening\r\n",
        "This Is What Happens When You Let Politicians Write Their Own Rules\r\n",
        "If You've Heard Someone Say 'Love The Sinner, Hate The Sin,' You Should Share This With Them\r\n",
        "Can Somebody Please Explain How This Isn't Illegal?\r\n",
        "If You've Ever Heard People Say, 'There Are Plenty Of Jobs Out There...' Then Take A Look At This\r\n",
        "2 Years Before He Died, This Comedian Made 1 Simple Point About Life\r\n",
        "A Summary Of McMinimum Wages And McWelfare In One Hilarious Clip\r\n",
        "So, You're Telling Me You Don't Like The Way You Think I Have Sex? 'Cause That's All I'm Hearing.\r\n",
        "How 'We The People' Became 'We The Corporations,' In Under 4 Minutes\r\n",
        "A Song To Play Every Time You See A Sexist, Racist, Or Homophobic Comment Online\r\n",
        "The Dude Is Pissed. And Unfortunately, We Can All Recognize The Reason Why.\r\n",
        "One Mother Did Something Illegal To Help Her Kids, And This Cop Was Totally, Unexpectedly Cool\r\n",
        "The Reality Of What Food Stamps Cost All Of Us In One Incredibly Simple Graphic\r\n",
        "Dear Men: You'll Feel Awkward For The First Couple Of Weeks, But It's All Worth It, I Swear\r\n",
        "She Worked In A Factory In Bangladesh To Make This Story. Her Supervisor Was 9 Years Old.\r\n",
        "Congresswoman Is Confronted By Reality And Proceeds To Pretend It Doesn't Exist\r\n",
        "When You Ban Women From Driving, They'll Not Only Defy You \u2014 But Record Songs Like This Too\r\n",
        "He's Speaking. She's Playing. And I'm Just Over Here Trying To Pick My Jaw Up Off The Floor.\r\n",
        "I Don't Quite Know What These People Are Doing On The Job, But I'd Work 1 Week And Retire\r\n",
        "The Hilarious Beer Commercial No Brewery Wants You To See\r\n"
       ]
      }
     ],
     "prompt_number": 75
    },
    {
     "cell_type": "markdown",
     "metadata": {
      "slideshow": {
       "slide_type": "slide"
      }
     },
     "source": [
      "Why did I start with Page 2 and how did I know?"
     ]
    },
    {
     "cell_type": "markdown",
     "metadata": {
      "slideshow": {
       "slide_type": "fragment"
      }
     },
     "source": [
      "![](https://raw.github.com/nealcaren/workshop_2014/master/notebooks/images/why_page2.png)"
     ]
    },
    {
     "cell_type": "markdown",
     "metadata": {
      "slideshow": {
       "slide_type": "slide"
      }
     },
     "source": [
      "####Your turn:\n",
      "\n",
      "Find the email addresses of the Yale sociology faculty. Then try your script on the econ faculty page.\n",
      "\n",
      "\n",
      "\n"
     ]
    },
    {
     "cell_type": "markdown",
     "metadata": {
      "slideshow": {
       "slide_type": "fragment"
      }
     },
     "source": [
      "1. Download the page.\n",
      "1. Look at the source code of a sample page.\n",
      "2. Find the thing that you want, and the stuff around that thing.\n",
      "3. Write a regular expression that matches what you want.\n",
      "4. Write regular expression that actually matches what you want.\n",
      "5. Production!"
     ]
    },
    {
     "cell_type": "markdown",
     "metadata": {},
     "source": [
      "It gets more complicated.\n",
      "\n",
      "In general, the more a company profits from their information as a unique resource, the harder it is to scape."
     ]
    }
   ],
   "metadata": {}
  }
 ]
}